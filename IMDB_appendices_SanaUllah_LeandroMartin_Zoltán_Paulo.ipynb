{
 "cells": [
  {
   "cell_type": "markdown",
   "id": "daf091b2",
   "metadata": {},
   "source": [
    "<code style=\"background:yellow;color:black\"><b><u><font size=\"7\">Section 1</font></u></b></code>"
   ]
  },
  {
   "cell_type": "code",
   "execution_count": 108,
   "id": "d78fea9b",
   "metadata": {},
   "outputs": [],
   "source": [
    "import pandas as pd\n",
    "import numpy as np\n",
    "import matplotlib.pyplot as plt\n",
    "import imdb\n",
    "import warnings\n",
    "warnings.filterwarnings(\"ignore\")"
   ]
  },
  {
   "cell_type": "code",
   "execution_count": 109,
   "id": "9cb8c9ae",
   "metadata": {},
   "outputs": [],
   "source": [
    "df=pd.read_csv('Comprehensive IMDb Data.csv')"
   ]
  },
  {
   "cell_type": "markdown",
   "id": "d7a1352c",
   "metadata": {},
   "source": [
    "<code style=\"background:yellow;color:black\"><b><u><font size=\"6\">** Filter True/Accutare Movie ID For Unique Movie Title:</font></u></b></code>"
   ]
  },
  {
   "cell_type": "markdown",
   "id": "0a867b3b",
   "metadata": {},
   "source": [
    "We need Movie ID (example: tt0081505) to extract or process different parameters, either from IMDB python API or other databases provided my IMDB itself.\n",
    "\n",
    "But given Dataset has multiple Movie IDs agianst single movie, and only one of those multiple IDs is accurate/True Id for that specific movie. \n",
    "\n",
    "For example the movie Titanic has 7 different IDs, but only one of them is accurate. The other 6 IDs are of some Titanic mini film, documentary, some local version of short film name titanic, etc.\n",
    "\n",
    "And the information against wrong Ids is incorrect in our dataset, for example for titanic short film (not the movie Titanic which we globally recognize) neither the actor is Leonardo DiCaprio nor the director is James Cameron, its rating is different from the original movie, and above all, we are not interested in these short films or documentaries."
   ]
  },
  {
   "cell_type": "code",
   "execution_count": 110,
   "id": "62aae8d8",
   "metadata": {},
   "outputs": [],
   "source": [
    "# Removing 'tt' from 'titleId' to match it with IDs format provided by python API.\n",
    "df['titleId'] = df['titleId'].map(lambda x: x.lstrip('tt'))"
   ]
  },
  {
   "cell_type": "code",
   "execution_count": 111,
   "id": "0ee94e0b",
   "metadata": {},
   "outputs": [],
   "source": [
    "#Concatenate different attributes to get unique value in dataset for further processes.\n",
    "\n",
    " # year_title_star\n",
    " # year_title_primaryName\n",
    " # concatinate year_title \n",
    " # result = year_title_star == year_title_primaryName (True or False)\n",
    "\n",
    "df['year_title_star']=df[\"year\"].astype(str) + \"_\" +df[\"title\"].astype(str) + \"_\" + df[\"star\"]\n",
    "df['year_title_primaryName']=df[\"year\"].astype(str) + \"_\" +df[\"title\"].astype(str) + \"_\" + df[\"primaryName\"]\n",
    "df['year_title']=df[\"year\"].astype(str) + \"_\" +df[\"title\"].astype(str)"
   ]
  },
  {
   "cell_type": "code",
   "execution_count": 112,
   "id": "edafacb0",
   "metadata": {},
   "outputs": [
    {
     "data": {
      "text/plain": [
       "(7272, 26)"
      ]
     },
     "execution_count": 112,
     "metadata": {},
     "output_type": "execute_result"
    }
   ],
   "source": [
    "# we have star name in separate column against each move, we also have star name in primaryName (along other cast)\n",
    "# so by filtering star in primary name will give us one unique row of infomration against that movie.\n",
    "# it will return maximum unique values with true IDs.\n",
    "\n",
    "df['result'] = np.where(df['year_title_star'] == df['year_title_primaryName'], 'True', 'False')\n",
    "df=df[df['result'].isin(['True'])]\n",
    "df.shape"
   ]
  },
  {
   "cell_type": "code",
   "execution_count": 113,
   "id": "a281a68d",
   "metadata": {},
   "outputs": [
    {
     "name": "stdout",
     "output_type": "stream",
     "text": [
      "Now, do we have any duplicate values in  Year_title ? =   True\n",
      "Total number of duplicates =   214\n"
     ]
    }
   ],
   "source": [
    "# Chekc if we still have duplicate values in year_title \n",
    "print('Now, do we have any duplicate values in  Year_title ? =  ',df.duplicated(subset=['year_title']).any())\n",
    "print('Total number of duplicates =  ', df.year_title.duplicated(keep=False).sum())"
   ]
  },
  {
   "cell_type": "code",
   "execution_count": 114,
   "id": "ff613974",
   "metadata": {},
   "outputs": [],
   "source": [
    "# lets treat above duplications now,\n",
    "df['Y_T_Duplicate']=df.year_title.duplicated(keep=False)\n",
    "fdf = df[df['Y_T_Duplicate']==True] # new dataframe with only duplicate entries to process separately.\n",
    "df = df.loc[df['Y_T_Duplicate']==False ] # Drop true values from df as we will treat them in separate DF.\n",
    "\n",
    "# make long IMBD title to get accurate ID from IMDB API.\n",
    "fdf['long_title']=fdf['title'].astype(str) + \" (\" + fdf[\"year\"].astype(str) + \")\""
   ]
  },
  {
   "cell_type": "markdown",
   "id": "2af5191c",
   "metadata": {},
   "source": [
    "**below command will take a lot of time, depeding on your internet speed as we are prcessing IMDB API, and its very slow**\n",
    "\n",
    "The only way to get true IDs agianst long IMDB title is by API, IMDB dont provide this in their other databases. we are pricessing this for only 214 values whihc we filer above as \"Discrepancies\"."
   ]
  },
  {
   "cell_type": "code",
   "execution_count": 115,
   "id": "bb2edb2f",
   "metadata": {},
   "outputs": [],
   "source": [
    "# Copy correct ID in fdf['Y_T__T_ID'] form API\n",
    "\n",
    "ia = imdb.IMDb()\n",
    "fdf['Y_T__T_ID'] = fdf['long_title'].apply(lambda x: ia.search_movie(x)[0].movieID)"
   ]
  },
  {
   "cell_type": "code",
   "execution_count": 116,
   "id": "29c917a2",
   "metadata": {},
   "outputs": [
    {
     "data": {
      "text/plain": [
       "(105, 30)"
      ]
     },
     "execution_count": 116,
     "metadata": {},
     "output_type": "execute_result"
    }
   ],
   "source": [
    "# now compare new ID with ID in DB\n",
    "fdf['ID_vs_ID']=np.where(fdf['titleId'] == fdf['Y_T__T_ID'], True, False)\n",
    "\n",
    "# Keep only True values\n",
    "fdf=fdf.loc[fdf['ID_vs_ID']==True ]\n",
    "fdf.shape"
   ]
  },
  {
   "cell_type": "code",
   "execution_count": 117,
   "id": "5f83e207",
   "metadata": {},
   "outputs": [],
   "source": [
    "#Reshape the filtered datframe to copy it to our main Dataframe\n",
    "fdf=fdf[['titleId', 'title', 'rating', 'region', 'genre', 'released', 'year',\n",
    "       'month', 'day', 'score', 'director', 'writer', 'star', 'country',\n",
    "       'budget', 'gross', 'company', 'runtime', 'category', 'nconst',\n",
    "       'primaryName', 'knownForTitles', 'year_title_star',\n",
    "       'year_title_primaryName', 'year_title', 'result', 'Y_T_Duplicate']]\n",
    "\n",
    "df=pd.concat([df,fdf])\n",
    "df=df.drop(columns=['result','Y_T_Duplicate']) # We dont neet it any"
   ]
  },
  {
   "cell_type": "code",
   "execution_count": 118,
   "id": "4ee98fba",
   "metadata": {},
   "outputs": [
    {
     "name": "stdout",
     "output_type": "stream",
     "text": [
      "Now, do we have any duplicate values in  Year_title ? =   False\n",
      "Total number of duplicates =   0\n"
     ]
    }
   ],
   "source": [
    "# Chekc again if we still have duplicate values in year_title \n",
    "print('Now, do we have any duplicate values in  Year_title ? =  ',df.duplicated(subset=['year_title']).any())\n",
    "print('Total number of duplicates =  ', df.year_title.duplicated(keep=False).sum())"
   ]
  },
  {
   "cell_type": "code",
   "execution_count": 119,
   "id": "6b7052e1",
   "metadata": {},
   "outputs": [],
   "source": [
    "# Drop unnecessary columns, as we dont have any Duplicate value now.\n",
    "#df=df.drop(columns=['result','Y_T_Duplicate'])\n",
    "\n",
    "# save this Dataframe to a CSV file, to load it directly and save (API) Run time next time.\n",
    "df.to_csv('NB_1_result_IMDB_UniqueID_10Nov21.csv',index=False)"
   ]
  },
  {
   "cell_type": "markdown",
   "id": "44636a5b",
   "metadata": {},
   "source": [
    "<code style=\"background:yellow;color:black\"><b><u><font size=\"4\">Now Our Data has unique movies, with true IDs,  so we can use this Dataframe or CSV for further  cleaning and extracting more information.</font></u></b></code>"
   ]
  },
  {
   "cell_type": "code",
   "execution_count": 120,
   "id": "0488bbcd",
   "metadata": {
    "scrolled": true
   },
   "outputs": [
    {
     "name": "stdout",
     "output_type": "stream",
     "text": [
      "Given IMDB database size =  (222569, 22)\n",
      "CSV from Notebook 1, (Unique entries, True ID) size =  (7163, 25)\n"
     ]
    }
   ],
   "source": [
    "df_IMDB=pd.read_csv('Comprehensive IMDb Data.csv') # given DB\n",
    "df=pd.read_csv('NB_1_result_IMDB_UniqueID_10Nov21.csv') # results from Notebook 1 (True Movie ID)\n",
    "\n",
    "print('Given IMDB database size = ',df_IMDB.shape)\n",
    "print('CSV from Notebook 1, (Unique entries, True ID) size = ',df.shape)"
   ]
  },
  {
   "cell_type": "markdown",
   "id": "861a7a18",
   "metadata": {},
   "source": [
    "<code style=\"background:yellow;color:black\"><b><u><font size=\"6\">** FURTHER DATA EXTRACTION FROM OTHER IMDB DATABASES:</font></u></b></code>"
   ]
  },
  {
   "cell_type": "markdown",
   "id": "be4bab76",
   "metadata": {},
   "source": [
    "<code style=\"background:yellow;color:black\"><b><u><font size=\"4\">> Extract upto three mian genres for each movie title.</font></u></b></code>"
   ]
  },
  {
   "cell_type": "code",
   "execution_count": 121,
   "id": "4d26387b",
   "metadata": {},
   "outputs": [],
   "source": [
    "# Runtime 20Sec\n",
    "\n",
    "# load tsv file to dataFrame (Database provided by IMDB)\n",
    "title_basics=pd.read_csv(\"title.basics.tsv\", sep='\\t')\n",
    "\n",
    "# remove tt from tconst and convert it to int, because ID is int type in our previous DF\n",
    "title_basics['tconst'] = title_basics['tconst'].map(lambda x: x.lstrip('tt'))\n",
    "title_basics['tconst']=title_basics['tconst'].apply(int) "
   ]
  },
  {
   "cell_type": "code",
   "execution_count": 122,
   "id": "d20f764c",
   "metadata": {},
   "outputs": [
    {
     "data": {
      "text/html": [
       "<div>\n",
       "<style scoped>\n",
       "    .dataframe tbody tr th:only-of-type {\n",
       "        vertical-align: middle;\n",
       "    }\n",
       "\n",
       "    .dataframe tbody tr th {\n",
       "        vertical-align: top;\n",
       "    }\n",
       "\n",
       "    .dataframe thead th {\n",
       "        text-align: right;\n",
       "    }\n",
       "</style>\n",
       "<table border=\"1\" class=\"dataframe\">\n",
       "  <thead>\n",
       "    <tr style=\"text-align: right;\">\n",
       "      <th></th>\n",
       "      <th>titleId</th>\n",
       "      <th>title</th>\n",
       "      <th>3_genres</th>\n",
       "    </tr>\n",
       "  </thead>\n",
       "  <tbody>\n",
       "    <tr>\n",
       "      <th>0</th>\n",
       "      <td>81505</td>\n",
       "      <td>The Shining</td>\n",
       "      <td>Drama,Horror</td>\n",
       "    </tr>\n",
       "    <tr>\n",
       "      <th>1</th>\n",
       "      <td>80453</td>\n",
       "      <td>The Blue Lagoon</td>\n",
       "      <td>Adventure,Drama,Romance</td>\n",
       "    </tr>\n",
       "    <tr>\n",
       "      <th>2</th>\n",
       "      <td>80684</td>\n",
       "      <td>Star Wars: Episode V - The Empire Strikes Back</td>\n",
       "      <td>Action,Adventure,Fantasy</td>\n",
       "    </tr>\n",
       "    <tr>\n",
       "      <th>3</th>\n",
       "      <td>80339</td>\n",
       "      <td>Airplane!</td>\n",
       "      <td>Comedy</td>\n",
       "    </tr>\n",
       "    <tr>\n",
       "      <th>4</th>\n",
       "      <td>80487</td>\n",
       "      <td>Caddyshack</td>\n",
       "      <td>Comedy,Sport</td>\n",
       "    </tr>\n",
       "  </tbody>\n",
       "</table>\n",
       "</div>"
      ],
      "text/plain": [
       "   titleId                                           title  \\\n",
       "0    81505                                     The Shining   \n",
       "1    80453                                 The Blue Lagoon   \n",
       "2    80684  Star Wars: Episode V - The Empire Strikes Back   \n",
       "3    80339                                       Airplane!   \n",
       "4    80487                                      Caddyshack   \n",
       "\n",
       "                   3_genres  \n",
       "0              Drama,Horror  \n",
       "1   Adventure,Drama,Romance  \n",
       "2  Action,Adventure,Fantasy  \n",
       "3                    Comedy  \n",
       "4              Comedy,Sport  "
      ]
     },
     "execution_count": 122,
     "metadata": {},
     "output_type": "execute_result"
    }
   ],
   "source": [
    "#####  Vlookup genrese from (above) name_basic to our main DataFrame\n",
    "\n",
    "# **  Setp 1: Set ncost as index in boht dataframes (df and name_basics)\n",
    "title_basics.set_index('tconst',inplace=True)\n",
    "df.set_index('titleId',inplace=True)   #name_basics.reset_index(inplace=True)  ## Toremove index again\n",
    "\n",
    "# ** Step 2:  make BLANK column name for geners to copy data in main df\n",
    "df['3_genres']=\"\"\n",
    "\n",
    "# ** Setp 3: \n",
    "df['3_genres']=df.index.map(title_basics['genres'])\n",
    "\n",
    "# ** Step 4: remove tconst and title is from index in boht dataFrames\n",
    "title_basics.reset_index(inplace=True)\n",
    "df.reset_index(inplace=True)\n",
    "\n",
    "df[['titleId','title','3_genres']].head()\n",
    "\n",
    "#df['3_genres'].str.get_dummies(sep=',')"
   ]
  },
  {
   "cell_type": "markdown",
   "id": "e072010f",
   "metadata": {},
   "source": [
    "<code style=\"background:yellow;color:black\"><b><u><font size=\"4\">> Convert countries to Continents</font></u></b></code>"
   ]
  },
  {
   "cell_type": "code",
   "execution_count": 123,
   "id": "73da26aa",
   "metadata": {},
   "outputs": [],
   "source": [
    "# ****  Function to convert countries to continent\n",
    "\n",
    "import pycountry_convert as pc\n",
    "def country_to_continent(country_name):\n",
    "    country_alpha2 = pc.country_name_to_country_alpha2(country_name)\n",
    "    country_continent_code = pc.country_alpha2_to_continent_code(country_alpha2)\n",
    "    country_continent_name = pc.convert_continent_code_to_continent_name(country_continent_code)\n",
    "    return country_continent_name\n",
    "# Function Refrence: https://www.buzzphp.com/posts/get-continent-name-from-country-using-pycountry"
   ]
  },
  {
   "cell_type": "code",
   "execution_count": 124,
   "id": "ff141219",
   "metadata": {},
   "outputs": [
    {
     "data": {
      "text/html": [
       "<div>\n",
       "<style scoped>\n",
       "    .dataframe tbody tr th:only-of-type {\n",
       "        vertical-align: middle;\n",
       "    }\n",
       "\n",
       "    .dataframe tbody tr th {\n",
       "        vertical-align: top;\n",
       "    }\n",
       "\n",
       "    .dataframe thead th {\n",
       "        text-align: right;\n",
       "    }\n",
       "</style>\n",
       "<table border=\"1\" class=\"dataframe\">\n",
       "  <thead>\n",
       "    <tr style=\"text-align: right;\">\n",
       "      <th></th>\n",
       "      <th>titleId</th>\n",
       "      <th>title</th>\n",
       "      <th>country</th>\n",
       "      <th>continent</th>\n",
       "    </tr>\n",
       "  </thead>\n",
       "  <tbody>\n",
       "    <tr>\n",
       "      <th>7158</th>\n",
       "      <td>1674771</td>\n",
       "      <td>Entourage</td>\n",
       "      <td>United States</td>\n",
       "      <td>North America</td>\n",
       "    </tr>\n",
       "    <tr>\n",
       "      <th>7159</th>\n",
       "      <td>2865120</td>\n",
       "      <td>Ratchet &amp; Clank</td>\n",
       "      <td>Hong Kong</td>\n",
       "      <td>Asia</td>\n",
       "    </tr>\n",
       "    <tr>\n",
       "      <th>7160</th>\n",
       "      <td>4701182</td>\n",
       "      <td>Bumblebee</td>\n",
       "      <td>China</td>\n",
       "      <td>Asia</td>\n",
       "    </tr>\n",
       "    <tr>\n",
       "      <th>7161</th>\n",
       "      <td>7242142</td>\n",
       "      <td>Blindspotting</td>\n",
       "      <td>United States</td>\n",
       "      <td>North America</td>\n",
       "    </tr>\n",
       "    <tr>\n",
       "      <th>7162</th>\n",
       "      <td>1255919</td>\n",
       "      <td>Holmes &amp; Watson</td>\n",
       "      <td>United States</td>\n",
       "      <td>North America</td>\n",
       "    </tr>\n",
       "  </tbody>\n",
       "</table>\n",
       "</div>"
      ],
      "text/plain": [
       "      titleId            title        country      continent\n",
       "7158  1674771        Entourage  United States  North America\n",
       "7159  2865120  Ratchet & Clank      Hong Kong           Asia\n",
       "7160  4701182        Bumblebee          China           Asia\n",
       "7161  7242142    Blindspotting  United States  North America\n",
       "7162  1255919  Holmes & Watson  United States  North America"
      ]
     },
     "execution_count": 124,
     "metadata": {},
     "output_type": "execute_result"
    }
   ],
   "source": [
    "# **  process country column\n",
    "\n",
    "# only one NaN in country column, and that too was wierd value so we can drop it for sure\n",
    "df=df.dropna(subset=[\"country\"]) \n",
    "\n",
    "# Ignoring movies form 'west germany' and 'Yugoslavia'. (Total = 12 movies [including one NaN country])\n",
    "df.drop(index=df[df['country'] == 'West Germany'].index, inplace=True)\n",
    "df.drop(index=df[df['country'] == 'Federal Republic of Yugoslavia'].index, inplace=True)\n",
    "df.drop(index=df[df['country'] == 'Yugoslavia'].index, inplace=True)\n",
    "\n",
    "# **  convert countries to continent \n",
    "df['continent']=(df[\"country\"].apply(lambda x: country_to_continent(x)))\n",
    "\n",
    "df[['titleId','title','country','continent']].tail()"
   ]
  },
  {
   "cell_type": "markdown",
   "id": "8d78e2ee",
   "metadata": {},
   "source": [
    "<code style=\"background:yellow;color:black\"><b><u><font size=\"4\">> Extract Age of actor at the time of movie release.</font></u></b></code>"
   ]
  },
  {
   "cell_type": "code",
   "execution_count": 125,
   "id": "d69e5283",
   "metadata": {},
   "outputs": [],
   "source": [
    "# Runtime 15 Sec.\n",
    "\n",
    "# load tsv file to dataFrame ( Another Database provided by IMDB)\n",
    "name_basics=pd.read_csv(\"name.basics.tsv\", sep='\\t')"
   ]
  },
  {
   "cell_type": "code",
   "execution_count": 126,
   "id": "bd5e93ec",
   "metadata": {},
   "outputs": [],
   "source": [
    "#####  Vlookup Star age year from name_basic\n",
    "\n",
    "# **  Setp 1: Set ncost as index in boht dataframes (df and name_basics)\n",
    "name_basics.set_index('nconst',inplace=True)\n",
    "df.set_index('nconst',inplace=True)   #name_basics.reset_index(inplace=True)  ## Toremove index again\n",
    "# ** Step 2:  make BLANK column name for actor age\n",
    "df['star_birthYear']=\"\"\n",
    "# ** Setp 3: \n",
    "df['star_birthYear']=df.index.map(name_basics['birthYear'])\n",
    "# ** Setp 4: remove nconst as index from boht dataframes\n",
    "name_basics.reset_index(inplace=True)\n",
    "df.reset_index(inplace=True)"
   ]
  },
  {
   "cell_type": "code",
   "execution_count": 127,
   "id": "75a04e5d",
   "metadata": {},
   "outputs": [
    {
     "data": {
      "text/html": [
       "<div>\n",
       "<style scoped>\n",
       "    .dataframe tbody tr th:only-of-type {\n",
       "        vertical-align: middle;\n",
       "    }\n",
       "\n",
       "    .dataframe tbody tr th {\n",
       "        vertical-align: top;\n",
       "    }\n",
       "\n",
       "    .dataframe thead th {\n",
       "        text-align: right;\n",
       "    }\n",
       "</style>\n",
       "<table border=\"1\" class=\"dataframe\">\n",
       "  <thead>\n",
       "    <tr style=\"text-align: right;\">\n",
       "      <th></th>\n",
       "      <th>titleId</th>\n",
       "      <th>title</th>\n",
       "      <th>year</th>\n",
       "      <th>star</th>\n",
       "      <th>starAge_atMovie</th>\n",
       "    </tr>\n",
       "  </thead>\n",
       "  <tbody>\n",
       "    <tr>\n",
       "      <th>274</th>\n",
       "      <td>83598</td>\n",
       "      <td>Author! Author!</td>\n",
       "      <td>1982</td>\n",
       "      <td>Al Pacino</td>\n",
       "      <td>42</td>\n",
       "    </tr>\n",
       "    <tr>\n",
       "      <th>304</th>\n",
       "      <td>86250</td>\n",
       "      <td>Scarface</td>\n",
       "      <td>1983</td>\n",
       "      <td>Al Pacino</td>\n",
       "      <td>43</td>\n",
       "    </tr>\n",
       "    <tr>\n",
       "      <th>679</th>\n",
       "      <td>89913</td>\n",
       "      <td>Revolution</td>\n",
       "      <td>1985</td>\n",
       "      <td>Al Pacino</td>\n",
       "      <td>45</td>\n",
       "    </tr>\n",
       "    <tr>\n",
       "      <th>882</th>\n",
       "      <td>113277</td>\n",
       "      <td>Heat</td>\n",
       "      <td>1995</td>\n",
       "      <td>Al Pacino</td>\n",
       "      <td>55</td>\n",
       "    </tr>\n",
       "    <tr>\n",
       "      <th>1353</th>\n",
       "      <td>98273</td>\n",
       "      <td>Sea of Love</td>\n",
       "      <td>1989</td>\n",
       "      <td>Al Pacino</td>\n",
       "      <td>49</td>\n",
       "    </tr>\n",
       "  </tbody>\n",
       "</table>\n",
       "</div>"
      ],
      "text/plain": [
       "      titleId            title  year       star  starAge_atMovie\n",
       "274     83598  Author! Author!  1982  Al Pacino               42\n",
       "304     86250         Scarface  1983  Al Pacino               43\n",
       "679     89913       Revolution  1985  Al Pacino               45\n",
       "882    113277             Heat  1995  Al Pacino               55\n",
       "1353    98273      Sea of Love  1989  Al Pacino               49"
      ]
     },
     "execution_count": 127,
     "metadata": {},
     "output_type": "execute_result"
    }
   ],
   "source": [
    "# some actors birth year is not available in any IMDB database and python gets false value \"\\N\" for them\n",
    "# convert \"\\N\" to numpy.NaN for further process\n",
    "df=df.replace('\\\\N', np.NaN)\n",
    "\n",
    "# temporary creat date time values column to get age\n",
    "df['starYear']=pd.to_datetime(df['star_birthYear'])\n",
    "df['movieYear']=pd.to_datetime(df['year'].apply(str))\n",
    "\n",
    "#get age\n",
    "df['starAge_atMovie']=((df['movieYear']-df['starYear'])/ pd.Timedelta('365 days')).round().astype(\"Int64\")\n",
    "\n",
    "# as we have age at the time of movie release, so ...\n",
    "# delete temporary created columns, we dont need them any way\n",
    "df=df.drop(['starYear', 'movieYear','star_birthYear'], axis=1)\n",
    "\n",
    "#lets check and visualize\n",
    "df[(df['star']=='Al Pacino')][['titleId','title','year','star','starAge_atMovie']].head()"
   ]
  },
  {
   "cell_type": "markdown",
   "id": "9492ce28",
   "metadata": {},
   "source": [
    "<code style=\"background:yellow;color:black\"><b><u><font size=\"4\">> Extrect Number of Voters for each movie.</font></u></b></code>"
   ]
  },
  {
   "cell_type": "code",
   "execution_count": 128,
   "id": "bcfbf8d2",
   "metadata": {},
   "outputs": [],
   "source": [
    "# load tsv file to dataFrame\n",
    "title_ratings=pd.read_csv(\"title.ratings.tsv\", sep='\\t')\n",
    "\n",
    "# remove tt from tconst and convert it to int\n",
    "title_ratings['tconst'] = title_ratings['tconst'].map(lambda x: x.lstrip('tt'))\n",
    "title_ratings['tconst']=title_ratings['tconst'].apply(int)"
   ]
  },
  {
   "cell_type": "code",
   "execution_count": 129,
   "id": "42bd9fc8",
   "metadata": {},
   "outputs": [
    {
     "data": {
      "text/html": [
       "<div>\n",
       "<style scoped>\n",
       "    .dataframe tbody tr th:only-of-type {\n",
       "        vertical-align: middle;\n",
       "    }\n",
       "\n",
       "    .dataframe tbody tr th {\n",
       "        vertical-align: top;\n",
       "    }\n",
       "\n",
       "    .dataframe thead th {\n",
       "        text-align: right;\n",
       "    }\n",
       "</style>\n",
       "<table border=\"1\" class=\"dataframe\">\n",
       "  <thead>\n",
       "    <tr style=\"text-align: right;\">\n",
       "      <th></th>\n",
       "      <th>titleId</th>\n",
       "      <th>title</th>\n",
       "      <th>score</th>\n",
       "      <th>numVotes</th>\n",
       "    </tr>\n",
       "  </thead>\n",
       "  <tbody>\n",
       "    <tr>\n",
       "      <th>7146</th>\n",
       "      <td>1674771</td>\n",
       "      <td>Entourage</td>\n",
       "      <td>6.6</td>\n",
       "      <td>78496</td>\n",
       "    </tr>\n",
       "    <tr>\n",
       "      <th>7147</th>\n",
       "      <td>2865120</td>\n",
       "      <td>Ratchet &amp; Clank</td>\n",
       "      <td>5.6</td>\n",
       "      <td>10558</td>\n",
       "    </tr>\n",
       "    <tr>\n",
       "      <th>7148</th>\n",
       "      <td>4701182</td>\n",
       "      <td>Bumblebee</td>\n",
       "      <td>6.7</td>\n",
       "      <td>151930</td>\n",
       "    </tr>\n",
       "    <tr>\n",
       "      <th>7149</th>\n",
       "      <td>7242142</td>\n",
       "      <td>Blindspotting</td>\n",
       "      <td>7.4</td>\n",
       "      <td>29683</td>\n",
       "    </tr>\n",
       "    <tr>\n",
       "      <th>7150</th>\n",
       "      <td>1255919</td>\n",
       "      <td>Holmes &amp; Watson</td>\n",
       "      <td>3.8</td>\n",
       "      <td>34388</td>\n",
       "    </tr>\n",
       "  </tbody>\n",
       "</table>\n",
       "</div>"
      ],
      "text/plain": [
       "      titleId            title  score  numVotes\n",
       "7146  1674771        Entourage    6.6     78496\n",
       "7147  2865120  Ratchet & Clank    5.6     10558\n",
       "7148  4701182        Bumblebee    6.7    151930\n",
       "7149  7242142    Blindspotting    7.4     29683\n",
       "7150  1255919  Holmes & Watson    3.8     34388"
      ]
     },
     "execution_count": 129,
     "metadata": {},
     "output_type": "execute_result"
    }
   ],
   "source": [
    "#####  Vlookup Ratings and Number of votes from title_ratings\n",
    "\n",
    "# **  Setp 1: Set ncost as index in boht dataframes (df and name_basics)\n",
    "title_ratings.set_index('tconst',inplace=True)\n",
    "df.set_index('titleId',inplace=True)   #name_basics.reset_index(inplace=True)  ## Toremove index again\n",
    "# ** Step 2:  make BLANK column name for geners to copy data in main df\n",
    "df['numVotes']=\"\"\n",
    "# ** Setp 3: \n",
    "df['numVotes']=df.index.map(title_ratings['numVotes'])\n",
    "# ** Step 4: remove tconst and title is from index in boht dataFrames\n",
    "title_ratings.reset_index(inplace=True)\n",
    "df.reset_index(inplace=True)\n",
    "\n",
    "df[['titleId','title','score','numVotes']].tail()"
   ]
  },
  {
   "cell_type": "markdown",
   "id": "6841f712",
   "metadata": {},
   "source": [
    "<code style=\"background:yellow;color:black\"><b><u><font size=\"4\">> > Count total number of Stars in movie</font></u></b></code>"
   ]
  },
  {
   "cell_type": "markdown",
   "id": "a6885332",
   "metadata": {},
   "source": [
    "That is total number \"Main\" actor, actresses, diterctors, writers, producers for each movie from given database.\n",
    "###### Pleae note that these counts are against the  \"True\" titleID for a specific movie, (not against the name of movie, because information is wrong if we consider just movie name.)"
   ]
  },
  {
   "cell_type": "code",
   "execution_count": 130,
   "id": "e238a011",
   "metadata": {},
   "outputs": [],
   "source": [
    "#Filter true title ID from df_IMDB\n",
    "titleId_list=list(df['titleId'])\n",
    "\n",
    "#Filter main (given) database and get information agianst ONLY true IDS.\n",
    "df_IMDB['titleId'] = df_IMDB['titleId'].map(lambda x: x.lstrip('tt'))\n",
    "df_IMDB['titleId']=df_IMDB['titleId'].apply(int)\n",
    "\n",
    "titleId_list=list(df['titleId']) # list of true IDs which we filtered amove\n",
    "df_IMDB=df_IMDB[df_IMDB['titleId'].isin(titleId_list)]\n",
    "\n",
    "# Get counts for number of actor, actresses, diterctors, writers, producers. \n",
    "df_counts=df_IMDB.groupby(['titleId','category']).size().reset_index().rename(columns={0:'count'})\n",
    "# Refrence: \n",
    "#https://stackoverflow.com/questions/35268817/unique-combinations-of-values-in-selected-columns-in-pandas-data-frame-and-count\n",
    "\n",
    "df['year_title_star']=df[\"year\"].astype(str) + \"_\" +df[\"title\"].astype(str) + \"_\" + df[\"star\"]"
   ]
  },
  {
   "cell_type": "code",
   "execution_count": 131,
   "id": "9ce5dcc1",
   "metadata": {},
   "outputs": [],
   "source": [
    "#  LEts star making function for the process we are repeating again and again ;)\n",
    "\n",
    "## Function to concatinate column values with \"_\" in between.\n",
    "def combine_2(a,b):\n",
    "    return a.astype(str)+\"_\"+b.astype(str)\n",
    "def combine_3(a,b,c):\n",
    "    return a.astype(str)+\"_\"+b.astype(str)+\"_\"+c.astype(str)\n",
    "def combine_two(a,b):\n",
    "    return a.astype(str) + \"_\" + b\n",
    "## Function to remove TT and convert it to int64\n",
    "def remove_tt(a):\n",
    "    b=a.map(lambda x: x.lstrip('tt'))\n",
    "    return b.apply(int)"
   ]
  },
  {
   "cell_type": "code",
   "execution_count": 132,
   "id": "7983b14d",
   "metadata": {},
   "outputs": [],
   "source": [
    "#### Function for Vlookup\n",
    "def V_lookup(df1, df2, df1_index, df2_index, V_from, V_to):\n",
    "    \n",
    "    #Step 1 : set index\n",
    "    df1.set_index(df1_index,inplace=True)\n",
    "    df2.set_index(df2_index,inplace=True)\n",
    "    \n",
    "    #setp2: make blank column \n",
    "    df2[V_to]=\"\"\n",
    "    \n",
    "    #Step3:\n",
    "    df2[V_to]=df2.index.map(df1[V_from])\n",
    "    \n",
    "    #Setp 4: Remove indexes again \n",
    "    df1.reset_index(inplace=True)\n",
    "    df2.reset_index(inplace=True)\n",
    "    \n",
    "# df1 = first DataFrame (Vlookup from) (target DataFrame)\n",
    "# Df2 = second DataFrame (Vlookup to) (destination DataFrame)\n",
    "\n",
    "# df1_index = 'string' of column name from df1 (Target Dataframe)\n",
    "# df2_index = 'string' of column name from df2 (Destination DataFrame)\n",
    "\n",
    "# V_to = destination column name in df2\n",
    "# V_from = target column name (from df2)\n",
    "  "
   ]
  },
  {
   "cell_type": "code",
   "execution_count": 133,
   "id": "050e47b9",
   "metadata": {},
   "outputs": [
    {
     "data": {
      "text/html": [
       "<div>\n",
       "<style scoped>\n",
       "    .dataframe tbody tr th:only-of-type {\n",
       "        vertical-align: middle;\n",
       "    }\n",
       "\n",
       "    .dataframe tbody tr th {\n",
       "        vertical-align: top;\n",
       "    }\n",
       "\n",
       "    .dataframe thead th {\n",
       "        text-align: right;\n",
       "    }\n",
       "</style>\n",
       "<table border=\"1\" class=\"dataframe\">\n",
       "  <thead>\n",
       "    <tr style=\"text-align: right;\">\n",
       "      <th></th>\n",
       "      <th>titleId</th>\n",
       "      <th>category</th>\n",
       "      <th>count</th>\n",
       "      <th>tconst_category</th>\n",
       "    </tr>\n",
       "  </thead>\n",
       "  <tbody>\n",
       "    <tr>\n",
       "      <th>0</th>\n",
       "      <td>35423</td>\n",
       "      <td>actor</td>\n",
       "      <td>3</td>\n",
       "      <td>35423_actor</td>\n",
       "    </tr>\n",
       "    <tr>\n",
       "      <th>1</th>\n",
       "      <td>35423</td>\n",
       "      <td>actress</td>\n",
       "      <td>1</td>\n",
       "      <td>35423_actress</td>\n",
       "    </tr>\n",
       "  </tbody>\n",
       "</table>\n",
       "</div>"
      ],
      "text/plain": [
       "   titleId category  count tconst_category\n",
       "0    35423    actor      3     35423_actor\n",
       "1    35423  actress      1   35423_actress"
      ]
     },
     "execution_count": 133,
     "metadata": {},
     "output_type": "execute_result"
    }
   ],
   "source": [
    "df_counts['tconst_category']=combine_2(df_counts.titleId , df_counts.category)\n",
    "df_counts.head(2)"
   ]
  },
  {
   "cell_type": "code",
   "execution_count": 134,
   "id": "be372205",
   "metadata": {},
   "outputs": [],
   "source": [
    "# Make temporary variables for Vlookup\n",
    "df['tconst_actor'] = combine_two(df.titleId, 'actor')\n",
    "df['tconst_actress'] = combine_two(df.titleId, 'actress')\n",
    "df['tconst_director'] = combine_two(df.titleId, 'director')"
   ]
  },
  {
   "cell_type": "code",
   "execution_count": 135,
   "id": "d228af68",
   "metadata": {},
   "outputs": [],
   "source": [
    "# Vlookup time using above function\n",
    "V_lookup(df_counts, df, 'tconst_category', 'tconst_actor', 'count', 'Total_actors')\n",
    "\n",
    "V_lookup(df_counts, df, 'tconst_category', 'tconst_actress', 'count', 'Total_actress')\n",
    "\n",
    "V_lookup(df_counts, df, 'tconst_category', 'tconst_director', 'count', 'Total_director')\n",
    "#df.reset_index(inplace=True)\n",
    "#df_counts.reset_index(inplace=True)"
   ]
  },
  {
   "cell_type": "code",
   "execution_count": 136,
   "id": "75138bb8",
   "metadata": {},
   "outputs": [],
   "source": [
    "# Convert np.NaN to 0 becuase according to our DB, there are zero main actors for that move\n",
    "# (star or main player might be the actress) .\n",
    "df[['Total_actors','Total_actress','Total_director']]=df[['Total_actors','Total_actress','Total_director']].replace(np.NaN, 0)\n",
    "df[['Total_actors','Total_actress','Total_director']]=df[['Total_actors','Total_actress','Total_director']].astype(int)\n",
    "\n",
    "df['actors_sum']=df['Total_actors']+df['Total_actress'] # sum of all actors in movie\n",
    "\n",
    "#Delete temporary created columns as we dont need them any more ####\n",
    "df.drop(['tconst_actor','tconst_actress','tconst_director'], axis=1, inplace=True)"
   ]
  },
  {
   "cell_type": "code",
   "execution_count": 137,
   "id": "af6f1703",
   "metadata": {},
   "outputs": [
    {
     "data": {
      "text/html": [
       "<div>\n",
       "<style scoped>\n",
       "    .dataframe tbody tr th:only-of-type {\n",
       "        vertical-align: middle;\n",
       "    }\n",
       "\n",
       "    .dataframe tbody tr th {\n",
       "        vertical-align: top;\n",
       "    }\n",
       "\n",
       "    .dataframe thead th {\n",
       "        text-align: right;\n",
       "    }\n",
       "</style>\n",
       "<table border=\"1\" class=\"dataframe\">\n",
       "  <thead>\n",
       "    <tr style=\"text-align: right;\">\n",
       "      <th></th>\n",
       "      <th>titleId</th>\n",
       "      <th>title</th>\n",
       "      <th>year</th>\n",
       "      <th>Total_actors</th>\n",
       "      <th>Total_actress</th>\n",
       "      <th>actors_sum</th>\n",
       "      <th>Total_director</th>\n",
       "    </tr>\n",
       "  </thead>\n",
       "  <tbody>\n",
       "    <tr>\n",
       "      <th>6561</th>\n",
       "      <td>3014284</td>\n",
       "      <td>The Lego Ninjago Movie</td>\n",
       "      <td>2017</td>\n",
       "      <td>4</td>\n",
       "      <td>0</td>\n",
       "      <td>4</td>\n",
       "      <td>3</td>\n",
       "    </tr>\n",
       "    <tr>\n",
       "      <th>6638</th>\n",
       "      <td>4633694</td>\n",
       "      <td>Spider-Man: Into the Spider-Verse</td>\n",
       "      <td>2018</td>\n",
       "      <td>3</td>\n",
       "      <td>1</td>\n",
       "      <td>4</td>\n",
       "      <td>3</td>\n",
       "    </tr>\n",
       "    <tr>\n",
       "      <th>6736</th>\n",
       "      <td>5774450</td>\n",
       "      <td>Summer of 84</td>\n",
       "      <td>2018</td>\n",
       "      <td>4</td>\n",
       "      <td>0</td>\n",
       "      <td>4</td>\n",
       "      <td>3</td>\n",
       "    </tr>\n",
       "    <tr>\n",
       "      <th>7106</th>\n",
       "      <td>366548</td>\n",
       "      <td>Happy Feet</td>\n",
       "      <td>2006</td>\n",
       "      <td>3</td>\n",
       "      <td>1</td>\n",
       "      <td>4</td>\n",
       "      <td>3</td>\n",
       "    </tr>\n",
       "    <tr>\n",
       "      <th>7140</th>\n",
       "      <td>1217209</td>\n",
       "      <td>Brave</td>\n",
       "      <td>2012</td>\n",
       "      <td>1</td>\n",
       "      <td>3</td>\n",
       "      <td>4</td>\n",
       "      <td>3</td>\n",
       "    </tr>\n",
       "  </tbody>\n",
       "</table>\n",
       "</div>"
      ],
      "text/plain": [
       "      titleId                              title  year  Total_actors  \\\n",
       "6561  3014284             The Lego Ninjago Movie  2017             4   \n",
       "6638  4633694  Spider-Man: Into the Spider-Verse  2018             3   \n",
       "6736  5774450                       Summer of 84  2018             4   \n",
       "7106   366548                         Happy Feet  2006             3   \n",
       "7140  1217209                              Brave  2012             1   \n",
       "\n",
       "      Total_actress  actors_sum  Total_director  \n",
       "6561              0           4               3  \n",
       "6638              1           4               3  \n",
       "6736              0           4               3  \n",
       "7106              1           4               3  \n",
       "7140              3           4               3  "
      ]
     },
     "execution_count": 137,
     "metadata": {},
     "output_type": "execute_result"
    }
   ],
   "source": [
    "df[(df['Total_director']==3)][['titleId','title','year','Total_actors','Total_actress','actors_sum','Total_director']].tail()"
   ]
  },
  {
   "cell_type": "markdown",
   "id": "2996b30c",
   "metadata": {},
   "source": [
    "<code style=\"background:yellow;color:black\"><b><u><font size=\"4\">> Grouping years (release year) with 5 years mask</font></u></b></code>"
   ]
  },
  {
   "cell_type": "code",
   "execution_count": 138,
   "id": "fd91ba42",
   "metadata": {},
   "outputs": [],
   "source": [
    "year=df['year']\n",
    "condition = [year<= 1985, year<=1990, year<=1995, year<=2000, year<=2005, year<=2010, year<=2015, year <=2020 ]\n",
    "choice = [\"1980-1985\", \"1986-1990\", \"1991-1995\", \"1996-2020\", \"2001-2005\", \"2006-2010\", \"2011-2015\", \"2016-2020\"]\n",
    "df['year_group']=np.select(condition, choice)"
   ]
  },
  {
   "cell_type": "code",
   "execution_count": 139,
   "id": "104d796e",
   "metadata": {
    "scrolled": true
   },
   "outputs": [
    {
     "data": {
      "text/html": [
       "<div>\n",
       "<style scoped>\n",
       "    .dataframe tbody tr th:only-of-type {\n",
       "        vertical-align: middle;\n",
       "    }\n",
       "\n",
       "    .dataframe tbody tr th {\n",
       "        vertical-align: top;\n",
       "    }\n",
       "\n",
       "    .dataframe thead th {\n",
       "        text-align: right;\n",
       "    }\n",
       "</style>\n",
       "<table border=\"1\" class=\"dataframe\">\n",
       "  <thead>\n",
       "    <tr style=\"text-align: right;\">\n",
       "      <th></th>\n",
       "      <th>titleId</th>\n",
       "      <th>title</th>\n",
       "      <th>year</th>\n",
       "      <th>year_group</th>\n",
       "    </tr>\n",
       "  </thead>\n",
       "  <tbody>\n",
       "    <tr>\n",
       "      <th>7145</th>\n",
       "      <td>2980706</td>\n",
       "      <td>Planes: Fire &amp; Rescue</td>\n",
       "      <td>2014</td>\n",
       "      <td>2011-2015</td>\n",
       "    </tr>\n",
       "    <tr>\n",
       "      <th>7146</th>\n",
       "      <td>1674771</td>\n",
       "      <td>Entourage</td>\n",
       "      <td>2015</td>\n",
       "      <td>2011-2015</td>\n",
       "    </tr>\n",
       "    <tr>\n",
       "      <th>7147</th>\n",
       "      <td>2865120</td>\n",
       "      <td>Ratchet &amp; Clank</td>\n",
       "      <td>2016</td>\n",
       "      <td>2016-2020</td>\n",
       "    </tr>\n",
       "    <tr>\n",
       "      <th>7148</th>\n",
       "      <td>4701182</td>\n",
       "      <td>Bumblebee</td>\n",
       "      <td>2018</td>\n",
       "      <td>2016-2020</td>\n",
       "    </tr>\n",
       "    <tr>\n",
       "      <th>7149</th>\n",
       "      <td>7242142</td>\n",
       "      <td>Blindspotting</td>\n",
       "      <td>2018</td>\n",
       "      <td>2016-2020</td>\n",
       "    </tr>\n",
       "    <tr>\n",
       "      <th>7150</th>\n",
       "      <td>1255919</td>\n",
       "      <td>Holmes &amp; Watson</td>\n",
       "      <td>2018</td>\n",
       "      <td>2016-2020</td>\n",
       "    </tr>\n",
       "  </tbody>\n",
       "</table>\n",
       "</div>"
      ],
      "text/plain": [
       "      titleId                  title  year year_group\n",
       "7145  2980706  Planes: Fire & Rescue  2014  2011-2015\n",
       "7146  1674771              Entourage  2015  2011-2015\n",
       "7147  2865120        Ratchet & Clank  2016  2016-2020\n",
       "7148  4701182              Bumblebee  2018  2016-2020\n",
       "7149  7242142          Blindspotting  2018  2016-2020\n",
       "7150  1255919        Holmes & Watson  2018  2016-2020"
      ]
     },
     "execution_count": 139,
     "metadata": {},
     "output_type": "execute_result"
    }
   ],
   "source": [
    "#Creat CSV for just in case.\n",
    "df.to_csv('NB_2_result_IMDB_extractedData_10Nov21.csv',index=False)\n",
    "\n",
    "df[['titleId','title','year','year_group']].tail(6)"
   ]
  },
  {
   "cell_type": "markdown",
   "id": "ca152c59",
   "metadata": {},
   "source": [
    "<code style=\"background:yellow;color:black\"><b><u><font size=\"6\"> *** Enough Extraction .. lets clean now</font></u></b></code>"
   ]
  },
  {
   "cell_type": "code",
   "execution_count": 140,
   "id": "469bb12f",
   "metadata": {},
   "outputs": [],
   "source": [
    "from scipy import stats \n",
    "from scipy.stats import zscore,shapiro\n",
    "import seaborn as sn\n",
    "import statsmodels.api as sm"
   ]
  },
  {
   "cell_type": "code",
   "execution_count": 141,
   "id": "46d94f8b",
   "metadata": {},
   "outputs": [],
   "source": [
    "df3=pd.read_csv('NB_2_result_IMDB_extractedData_10Nov21.csv')"
   ]
  },
  {
   "cell_type": "code",
   "execution_count": 142,
   "id": "653b95b6",
   "metadata": {},
   "outputs": [
    {
     "data": {
      "text/plain": [
       "titleId                      0\n",
       "nconst                       0\n",
       "title                        0\n",
       "rating                      43\n",
       "region                       0\n",
       "genre                        0\n",
       "released                    43\n",
       "year                         0\n",
       "month                        8\n",
       "day                         42\n",
       "score                        0\n",
       "director                     0\n",
       "writer                       3\n",
       "star                         0\n",
       "country                      0\n",
       "budget                    1893\n",
       "gross                        0\n",
       "company                     10\n",
       "runtime                      1\n",
       "category                     0\n",
       "primaryName                  0\n",
       "knownForTitles               2\n",
       "year_title_star              0\n",
       "year_title_primaryName       0\n",
       "year_title                   0\n",
       "3_genres                     0\n",
       "continent                    0\n",
       "starAge_atMovie            151\n",
       "numVotes                     0\n",
       "Total_actors                 0\n",
       "Total_actress                0\n",
       "Total_director               0\n",
       "actors_sum                   0\n",
       "year_group                   0\n",
       "dtype: int64"
      ]
     },
     "execution_count": 142,
     "metadata": {},
     "output_type": "execute_result"
    }
   ],
   "source": [
    "#examin null values\n",
    "df3.isnull().sum()"
   ]
  },
  {
   "cell_type": "code",
   "execution_count": 143,
   "id": "cef3dab3",
   "metadata": {},
   "outputs": [
    {
     "name": "stdout",
     "output_type": "stream",
     "text": [
      "Correlation between budget and gross =  0.73\n"
     ]
    }
   ],
   "source": [
    "print('Correlation between budget and gross = ',df3.budget.corr(df3.gross).round(2))"
   ]
  },
  {
   "cell_type": "markdown",
   "id": "ac8a3a0b",
   "metadata": {},
   "source": [
    "1893 value are missing for budget, its a big portion when compared to total size of dataset, and budget has very strong correlation with our y variable (gross).\n",
    "\n",
    "We can extract missing budget with the help of IMDB API, but majority of them is in other currency (for example Indian ruppe, Brazilian currency etc.) so we also need to convert that ammount in USD by USD excange rate at the time of movie release. \n",
    "\n",
    "IMDB itself is a very slow API, plus processing 1898 values through two different APIs are very time consuming, (it might take  5 6 hours).\n",
    "\n",
    "so we are proposing the method, by which we can extract majority of missing budget values, but now for the sake of saving time, here we are elemenating those missing values.\n"
   ]
  },
  {
   "cell_type": "code",
   "execution_count": 144,
   "id": "8fbdfdea",
   "metadata": {},
   "outputs": [],
   "source": [
    "df3=df3.dropna()"
   ]
  },
  {
   "cell_type": "markdown",
   "id": "4d6999ba",
   "metadata": {},
   "source": [
    "#Corelation"
   ]
  },
  {
   "cell_type": "code",
   "execution_count": 145,
   "id": "7bd7f861",
   "metadata": {},
   "outputs": [
    {
     "data": {
      "text/plain": [
       "<AxesSubplot:>"
      ]
     },
     "execution_count": 145,
     "metadata": {},
     "output_type": "execute_result"
    },
    {
     "data": {
      "image/png": "[encoded data removed]",
      "text/plain": [
       "<Figure size 720x504 with 2 Axes>"
      ]
     },
     "metadata": {},
     "output_type": "display_data"
    }
   ],
   "source": [
    "cor= df3[['year', 'budget', 'runtime', 'starAge_atMovie', 'numVotes',\n",
    "       'Total_actors', 'Total_actress', 'Total_director', 'gross', 'score']]\n",
    "\n",
    "\n",
    "plt.style.use('fivethirtyeight')\n",
    "plt.rcParams['figure.figsize'] = (10,7)\n",
    "\n",
    "# Corelation\n",
    "corr = cor.corr().round(2)\n",
    "plt.xticks(fontsize=10)\n",
    "plt.yticks(fontsize=10)\n",
    "\n",
    "# code to show only single corner heatmap\n",
    "mask = np.zeros_like(corr,dtype=bool)\n",
    "mask[np.triu_indices_from(mask)]=True\n",
    "corr[mask]=np.nan\n",
    "(corr.style.background_gradient(cmap='coolwarm',axis=None,vmin=-1,vmax=1)\n",
    " .highlight_null(null_color='#f1f1f1') \n",
    " .set_precision(1))\n",
    "\n",
    "#display corelation heatmap\n",
    "sn.heatmap(corr,cmap=\"coolwarm\",annot=True,linewidths=0.5,linecolor='#f1f1f1')\n",
    "#print(plt.style.available)"
   ]
  },
  {
   "cell_type": "markdown",
   "id": "e7e7bd99",
   "metadata": {},
   "source": [
    "<code style=\"background:yellow;color:black\"><b><u><font size=\"5\"> ** Outliers detection</font></u></b></code>"
   ]
  },
  {
   "cell_type": "markdown",
   "id": "bd788684",
   "metadata": {},
   "source": [
    "Lets Draw, Standarized Boxplots to detect extream values."
   ]
  },
  {
   "cell_type": "code",
   "execution_count": 146,
   "id": "0c970e07",
   "metadata": {},
   "outputs": [
    {
     "data": {
      "text/plain": [
       "(array([-7.5, -5. , -2.5,  0. ,  2.5,  5. ,  7.5, 10. , 12.5, 15. , 17.5]),\n",
       " [Text(0, 0, ''),\n",
       "  Text(0, 0, ''),\n",
       "  Text(0, 0, ''),\n",
       "  Text(0, 0, ''),\n",
       "  Text(0, 0, ''),\n",
       "  Text(0, 0, ''),\n",
       "  Text(0, 0, ''),\n",
       "  Text(0, 0, ''),\n",
       "  Text(0, 0, ''),\n",
       "  Text(0, 0, ''),\n",
       "  Text(0, 0, '')])"
      ]
     },
     "execution_count": 146,
     "metadata": {},
     "output_type": "execute_result"
    },
    {
     "data": {
      "image/png": "[encoded data removed]",
      "text/plain": [
       "<Figure size 504x504 with 1 Axes>"
      ]
     },
     "metadata": {},
     "output_type": "display_data"
    }
   ],
   "source": [
    "plt.style.use('ggplot')\n",
    "attributeNames=cor.columns.tolist()\n",
    "M=len(attributeNames)\n",
    "red_box = dict(markerfacecolor='r', marker='s',markersize=3)\n",
    "plt.figure(figsize=(7,7))\n",
    "plt.title('IMDB:   Standarized Boxplot',fontsize=10)\n",
    "plt.boxplot(zscore(cor), attributeNames,flierprops=red_box,patch_artist=True)\n",
    "plt.xticks(range(1,M+1), attributeNames,fontsize=10, rotation=90) \n",
    "plt.yticks(fontsize=8)"
   ]
  },
  {
   "cell_type": "markdown",
   "id": "2c6d0ce6",
   "metadata": {},
   "source": [
    "All the values in our dataset are true. for example yes, some movies are extreamly high gross ammounts, we can not say its wrong. but for the sake of training a better model, we need to process some extream values.\n",
    "\n",
    "from above box plot, we can say that, the attributes \"NumVites\" , \"Total actors\" , \"total_directors\", and \"gross\" has some extreamly values. \n",
    "\n",
    "lets also comfirm our doubt with the help of histogram."
   ]
  },
  {
   "cell_type": "code",
   "execution_count": 147,
   "id": "11977c3c",
   "metadata": {},
   "outputs": [
    {
     "data": {
      "image/png": "[encoded data removed]",
      "text/plain": [
       "<Figure size 576x432 with 6 Axes>"
      ]
     },
     "metadata": {},
     "output_type": "display_data"
    }
   ],
   "source": [
    "attributeNames=['numVotes', 'Total_director', 'gross', 'budget','Total_actress','score']\n",
    "M=len(attributeNames)\n",
    "plt.figure(figsize=(8,6))\n",
    "u = np.floor(np.sqrt(M)); v = np.ceil(float(M)/u)\n",
    "sn.set()\n",
    "for i in range(M):\n",
    "    attribute_Name = str(attributeNames[i])\n",
    "    X = cor[attribute_Name]\n",
    "    plt.subplot(int(u),int(v),i+1)\n",
    "    ab=sn.distplot(X,kde_kws={\"color\": \"r\", \"lw\": 2})\n",
    "    plt.xticks(fontsize=6)\n",
    "    plt.yticks(fontsize=6) \n",
    "    ab.set_xlabel(attribute_Name,fontsize=10)\n",
    "plt.show()\n"
   ]
  },
  {
   "cell_type": "markdown",
   "id": "33c7021e",
   "metadata": {},
   "source": [
    "Intresting, it confirms that we have extream values in \"gross\", \"budget\", \"NumVotes\", \"Total_actor\". lets process them."
   ]
  },
  {
   "cell_type": "code",
   "execution_count": 148,
   "id": "6fba907a",
   "metadata": {},
   "outputs": [
    {
     "data": {
      "text/html": [
       "<div>\n",
       "<style scoped>\n",
       "    .dataframe tbody tr th:only-of-type {\n",
       "        vertical-align: middle;\n",
       "    }\n",
       "\n",
       "    .dataframe tbody tr th {\n",
       "        vertical-align: top;\n",
       "    }\n",
       "\n",
       "    .dataframe thead th {\n",
       "        text-align: right;\n",
       "    }\n",
       "</style>\n",
       "<table border=\"1\" class=\"dataframe\">\n",
       "  <thead>\n",
       "    <tr style=\"text-align: right;\">\n",
       "      <th></th>\n",
       "      <th>budget</th>\n",
       "      <th>gross</th>\n",
       "      <th>Total_actors</th>\n",
       "      <th>Total_actress</th>\n",
       "      <th>numVotes</th>\n",
       "      <th>Total_director</th>\n",
       "    </tr>\n",
       "  </thead>\n",
       "  <tbody>\n",
       "    <tr>\n",
       "      <th>count</th>\n",
       "      <td>5177</td>\n",
       "      <td>5177</td>\n",
       "      <td>5177</td>\n",
       "      <td>5177</td>\n",
       "      <td>5177</td>\n",
       "      <td>5177</td>\n",
       "    </tr>\n",
       "    <tr>\n",
       "      <th>mean</th>\n",
       "      <td>36037109</td>\n",
       "      <td>103591851</td>\n",
       "      <td>2</td>\n",
       "      <td>1</td>\n",
       "      <td>118635</td>\n",
       "      <td>1</td>\n",
       "    </tr>\n",
       "    <tr>\n",
       "      <th>std</th>\n",
       "      <td>40982859</td>\n",
       "      <td>185352749</td>\n",
       "      <td>1</td>\n",
       "      <td>0</td>\n",
       "      <td>189189</td>\n",
       "      <td>0</td>\n",
       "    </tr>\n",
       "    <tr>\n",
       "      <th>min</th>\n",
       "      <td>7000</td>\n",
       "      <td>309</td>\n",
       "      <td>0</td>\n",
       "      <td>0</td>\n",
       "      <td>236</td>\n",
       "      <td>0</td>\n",
       "    </tr>\n",
       "    <tr>\n",
       "      <th>1%</th>\n",
       "      <td>493999</td>\n",
       "      <td>126043</td>\n",
       "      <td>0</td>\n",
       "      <td>0</td>\n",
       "      <td>1285</td>\n",
       "      <td>0</td>\n",
       "    </tr>\n",
       "    <tr>\n",
       "      <th>10%</th>\n",
       "      <td>5000000</td>\n",
       "      <td>2835087</td>\n",
       "      <td>2</td>\n",
       "      <td>0</td>\n",
       "      <td>7078</td>\n",
       "      <td>1</td>\n",
       "    </tr>\n",
       "    <tr>\n",
       "      <th>20%</th>\n",
       "      <td>8000000</td>\n",
       "      <td>7966040</td>\n",
       "      <td>2</td>\n",
       "      <td>1</td>\n",
       "      <td>14943</td>\n",
       "      <td>1</td>\n",
       "    </tr>\n",
       "    <tr>\n",
       "      <th>30%</th>\n",
       "      <td>12000000</td>\n",
       "      <td>14638943</td>\n",
       "      <td>2</td>\n",
       "      <td>1</td>\n",
       "      <td>25173</td>\n",
       "      <td>1</td>\n",
       "    </tr>\n",
       "    <tr>\n",
       "      <th>40%</th>\n",
       "      <td>17000000</td>\n",
       "      <td>23503214</td>\n",
       "      <td>2</td>\n",
       "      <td>1</td>\n",
       "      <td>38008</td>\n",
       "      <td>1</td>\n",
       "    </tr>\n",
       "    <tr>\n",
       "      <th>50%</th>\n",
       "      <td>22000000</td>\n",
       "      <td>38075318</td>\n",
       "      <td>3</td>\n",
       "      <td>1</td>\n",
       "      <td>54291</td>\n",
       "      <td>1</td>\n",
       "    </tr>\n",
       "    <tr>\n",
       "      <th>60%</th>\n",
       "      <td>30000000</td>\n",
       "      <td>57513842</td>\n",
       "      <td>3</td>\n",
       "      <td>2</td>\n",
       "      <td>77417</td>\n",
       "      <td>1</td>\n",
       "    </tr>\n",
       "    <tr>\n",
       "      <th>70%</th>\n",
       "      <td>38000000</td>\n",
       "      <td>90849030</td>\n",
       "      <td>3</td>\n",
       "      <td>2</td>\n",
       "      <td>109708</td>\n",
       "      <td>1</td>\n",
       "    </tr>\n",
       "    <tr>\n",
       "      <th>80%</th>\n",
       "      <td>55000000</td>\n",
       "      <td>149186991</td>\n",
       "      <td>3</td>\n",
       "      <td>2</td>\n",
       "      <td>169454</td>\n",
       "      <td>1</td>\n",
       "    </tr>\n",
       "    <tr>\n",
       "      <th>90%</th>\n",
       "      <td>85000000</td>\n",
       "      <td>268958152</td>\n",
       "      <td>4</td>\n",
       "      <td>3</td>\n",
       "      <td>292763</td>\n",
       "      <td>1</td>\n",
       "    </tr>\n",
       "    <tr>\n",
       "      <th>99%</th>\n",
       "      <td>200000000</td>\n",
       "      <td>930127168</td>\n",
       "      <td>6</td>\n",
       "      <td>4</td>\n",
       "      <td>946874</td>\n",
       "      <td>3</td>\n",
       "    </tr>\n",
       "    <tr>\n",
       "      <th>max</th>\n",
       "      <td>356000000</td>\n",
       "      <td>2847246203</td>\n",
       "      <td>12</td>\n",
       "      <td>8</td>\n",
       "      <td>2479369</td>\n",
       "      <td>6</td>\n",
       "    </tr>\n",
       "  </tbody>\n",
       "</table>\n",
       "</div>"
      ],
      "text/plain": [
       "          budget       gross  Total_actors  Total_actress  numVotes  \\\n",
       "count       5177        5177          5177           5177      5177   \n",
       "mean    36037109   103591851             2              1    118635   \n",
       "std     40982859   185352749             1              0    189189   \n",
       "min         7000         309             0              0       236   \n",
       "1%        493999      126043             0              0      1285   \n",
       "10%      5000000     2835087             2              0      7078   \n",
       "20%      8000000     7966040             2              1     14943   \n",
       "30%     12000000    14638943             2              1     25173   \n",
       "40%     17000000    23503214             2              1     38008   \n",
       "50%     22000000    38075318             3              1     54291   \n",
       "60%     30000000    57513842             3              2     77417   \n",
       "70%     38000000    90849030             3              2    109708   \n",
       "80%     55000000   149186991             3              2    169454   \n",
       "90%     85000000   268958152             4              3    292763   \n",
       "99%    200000000   930127168             6              4    946874   \n",
       "max    356000000  2847246203            12              8   2479369   \n",
       "\n",
       "       Total_director  \n",
       "count            5177  \n",
       "mean                1  \n",
       "std                 0  \n",
       "min                 0  \n",
       "1%                  0  \n",
       "10%                 1  \n",
       "20%                 1  \n",
       "30%                 1  \n",
       "40%                 1  \n",
       "50%                 1  \n",
       "60%                 1  \n",
       "70%                 1  \n",
       "80%                 1  \n",
       "90%                 1  \n",
       "99%                 3  \n",
       "max                 6  "
      ]
     },
     "execution_count": 148,
     "metadata": {},
     "output_type": "execute_result"
    }
   ],
   "source": [
    "sts=df3[['budget','gross', 'Total_actors','Total_actress','numVotes', 'Total_director']]\n",
    "sts.describe([.01,.1,.2,.3,.4,.5,.6,.7,.8,.9,.99]).astype(np.int64)"
   ]
  },
  {
   "cell_type": "markdown",
   "id": "478d46d6",
   "metadata": {},
   "source": [
    "<code style=\"background:yellow;color:black\"><b><u><font size=\"5\"> Fixing extream values (Cleaning)</font></u></b></code>"
   ]
  },
  {
   "cell_type": "markdown",
   "id": "97e2c52b",
   "metadata": {},
   "source": [
    "###### Functions defination"
   ]
  },
  {
   "cell_type": "code",
   "execution_count": 149,
   "id": "e466574a",
   "metadata": {},
   "outputs": [],
   "source": [
    "# NRW Function Working Shit\n",
    "def max_quantile_replace(DF,attribute,quantile, replace=False):\n",
    "    counts=0\n",
    "    Max_thold=DF[attribute].quantile(quantile)\n",
    "    print(quantile*100,' Percentile value for ',attribute,' = ',Max_thold)\n",
    "    counts+=DF[DF[attribute]>Max_thold].shape[0]\n",
    "    print('counts = ',counts)\n",
    "    \n",
    "    if replace==True:\n",
    "        DF[attribute][DF[attribute]>Max_thold]=Max_thold\n",
    "        print('Values replaced')\n",
    "        return DF\n",
    "################################################        \n",
    "# Dataframe = DataFrame Name\n",
    "# Attribute_name = String of attribute name\n",
    "# Quantile = Quantile values between 0 and 1 (Float type value)\n",
    "# replace = True if you want to replace values, False by default \n",
    "################################################"
   ]
  },
  {
   "cell_type": "code",
   "execution_count": 150,
   "id": "302e0ef7",
   "metadata": {},
   "outputs": [],
   "source": [
    "# Check this new Shit\n",
    "def min_quantile_remove(DF, attribute,quantile, remove=False):\n",
    "    counts=0\n",
    "    Min_thold=DF[attribute].quantile(quantile)\n",
    "    print(quantile*100,' Percentile value for ',attribute,' = ',Min_thold)\n",
    "    counts+=DF[DF[attribute]<Min_thold].shape[0]\n",
    "    print('counts = ',counts)\n",
    "    \n",
    "    if remove==True:\n",
    "        DF=DF[DF[attribute]>Min_thold]\n",
    "        print('Values Removed')\n",
    "        return DF\n",
    "################################################        \n",
    "# Dataframe = DataFrame Name\n",
    "# Attribute_name = String of attribute name\n",
    "# Quantile = Quantile values between 0 and 1 (Float type value)\n",
    "# remove = True if you want to remove values, False by default wont remove anything\n",
    "################################################ "
   ]
  },
  {
   "cell_type": "markdown",
   "id": "990669d0",
   "metadata": {},
   "source": [
    "<code style=\"background:yellow;color:black\"><b><u><font size=\"5\"> *** 1. Check Gross attribute </font></u></b></code>"
   ]
  },
  {
   "cell_type": "code",
   "execution_count": 151,
   "id": "14afb35e",
   "metadata": {},
   "outputs": [],
   "source": [
    "df4_copy=df3.copy()  ######### Remove me at the end\n",
    "# in case of issues\n",
    "df3=df4_copy.copy()  ## Remove me at teh end"
   ]
  },
  {
   "cell_type": "markdown",
   "id": "f9909792",
   "metadata": {},
   "source": [
    "*>>> First of all lets remove entries with extremely small gross values, because these are controversial movies**"
   ]
  },
  {
   "cell_type": "code",
   "execution_count": 152,
   "id": "5936cac5",
   "metadata": {},
   "outputs": [
    {
     "name": "stdout",
     "output_type": "stream",
     "text": [
      "1.0  Percentile value for  gross  =  126043.0\n",
      "counts =  52\n",
      "Values Removed\n"
     ]
    }
   ],
   "source": [
    "df3=min_quantile_remove(df3, 'gross',0.01, remove=True)"
   ]
  },
  {
   "cell_type": "markdown",
   "id": "a9e1488b",
   "metadata": {},
   "source": [
    "*>>> Now lets check the extremely high values in gross and replace them with suitable quantile value**"
   ]
  },
  {
   "cell_type": "code",
   "execution_count": 153,
   "id": "93de610b",
   "metadata": {},
   "outputs": [
    {
     "name": "stdout",
     "output_type": "stream",
     "text": [
      "99.0  Percentile value for  gross  =  933087697.7600013\n",
      "counts =  52\n",
      "Values replaced\n"
     ]
    }
   ],
   "source": [
    "df3=max_quantile_replace(df3,'gross',0.99, replace=True)"
   ]
  },
  {
   "cell_type": "markdown",
   "id": "ae2beaf9",
   "metadata": {},
   "source": [
    "<code style=\"background:yellow;color:black\"><b><u><font size=\"5\"> *** 2. Check Number of votes for extream vlaues and replace theme </font></u></b></code>"
   ]
  },
  {
   "cell_type": "code",
   "execution_count": 154,
   "id": "a3de9c9e",
   "metadata": {},
   "outputs": [
    {
     "name": "stdout",
     "output_type": "stream",
     "text": [
      "99.0  Percentile value for  numVotes  =  948829.0800000008\n",
      "counts =  52\n",
      "Values replaced\n"
     ]
    }
   ],
   "source": [
    "df3=max_quantile_replace(df3,'numVotes',0.99, replace=True)"
   ]
  },
  {
   "cell_type": "markdown",
   "id": "19bb54c0",
   "metadata": {},
   "source": [
    "<code style=\"background:yellow;color:black\"><b><u><font size=\"5\"> *** 3. Check Runtime for extream vlaues and replace them </font></u></b></code>"
   ]
  },
  {
   "cell_type": "code",
   "execution_count": 155,
   "id": "d1af1f26",
   "metadata": {},
   "outputs": [
    {
     "name": "stdout",
     "output_type": "stream",
     "text": [
      "99.6  Percentile value for  runtime  =  185.01599999999962\n",
      "counts =  21\n",
      "Values replaced\n"
     ]
    }
   ],
   "source": [
    "df3=max_quantile_replace(df3,'runtime',0.996, replace=True)"
   ]
  },
  {
   "cell_type": "markdown",
   "id": "433aa538",
   "metadata": {},
   "source": [
    "<code style=\"background:yellow;color:black\"><b><u><font size=\"5\"> *** 4. CheckBudget for extream vlaues and replace them </font></u></b></code>"
   ]
  },
  {
   "cell_type": "code",
   "execution_count": 156,
   "id": "a392cbd6",
   "metadata": {},
   "outputs": [
    {
     "name": "stdout",
     "output_type": "stream",
     "text": [
      "99.8  Percentile value for  budget  =  250000000.0\n",
      "counts =  9\n",
      "Values replaced\n"
     ]
    }
   ],
   "source": [
    "df3=max_quantile_replace(df3,'budget',0.998, replace=True)"
   ]
  },
  {
   "cell_type": "markdown",
   "id": "ddfb1628",
   "metadata": {},
   "source": [
    "<code style=\"background:yellow;color:black\"><b><u><font size=\"5\"> *** 5. lets do the same for ['Total_actors','ctress','numVotes', 'director' </font></u></b></code>"
   ]
  },
  {
   "cell_type": "code",
   "execution_count": 157,
   "id": "7698b419",
   "metadata": {},
   "outputs": [
    {
     "name": "stdout",
     "output_type": "stream",
     "text": [
      "99.0  Percentile value for  Total_actors  =  6.0\n",
      "counts =  17\n",
      "Values replaced\n",
      "99.0  Percentile value for  Total_actress  =  4.0\n",
      "counts =  31\n",
      "Values replaced\n",
      "99.0  Percentile value for  Total_director  =  3.0\n",
      "counts =  28\n",
      "Values replaced\n"
     ]
    }
   ],
   "source": [
    "list1=['Total_actors','Total_actress', 'Total_director']\n",
    "\n",
    "for entry in list1:\n",
    "    df3=max_quantile_replace(df3,entry,0.99, replace=True)\n",
    "    "
   ]
  },
  {
   "cell_type": "markdown",
   "id": "194a8b72",
   "metadata": {},
   "source": [
    "<code style=\"background:yellow;color:black\"><b><u><font size=\"5\"> *** 6. lets check score too, it seems it has some exreamly low values or extreamly high </font></u></b></code>"
   ]
  },
  {
   "cell_type": "code",
   "execution_count": 158,
   "id": "dfa13b43",
   "metadata": {},
   "outputs": [
    {
     "name": "stdout",
     "output_type": "stream",
     "text": [
      "0.1  Percentile value for  score  =  2.2\n",
      "counts =  4\n",
      "Values Removed\n",
      "99.9  Percentile value for  score  =  8.8\n",
      "counts =  5\n",
      "Values replaced\n"
     ]
    }
   ],
   "source": [
    "df3=min_quantile_remove(df3, 'score',0.001, remove=True) # Low values\n",
    "df3=max_quantile_replace(df3,'score',0.999, replace=True) # High values"
   ]
  },
  {
   "cell_type": "markdown",
   "id": "ec65a0d3",
   "metadata": {},
   "source": [
    "<code style=\"background:yellow;color:black\"><b><u><font size=\"5\"> >> Now lets check the correlation and box plots agian after above operations </font></u></b></code>"
   ]
  },
  {
   "cell_type": "code",
   "execution_count": 159,
   "id": "de9d5275",
   "metadata": {},
   "outputs": [
    {
     "data": {
      "text/plain": [
       "<AxesSubplot:>"
      ]
     },
     "execution_count": 159,
     "metadata": {},
     "output_type": "execute_result"
    },
    {
     "data": {
      "image/png": "[encoded data removed]",
      "text/plain": [
       "<Figure size 720x504 with 2 Axes>"
      ]
     },
     "metadata": {},
     "output_type": "display_data"
    }
   ],
   "source": [
    "cor= df3[['year', 'budget', 'runtime', 'starAge_atMovie', 'numVotes',\n",
    "       'Total_actors', 'Total_actress', 'Total_director', 'gross', 'score']]\n",
    "\n",
    "\n",
    "plt.style.use('fivethirtyeight')\n",
    "plt.rcParams['figure.figsize'] = (10,7)\n",
    "\n",
    "# Corelation\n",
    "corr = cor.corr().round(2)\n",
    "plt.xticks(fontsize=10)\n",
    "plt.yticks(fontsize=10)\n",
    "\n",
    "# code to show only single corner heatmap\n",
    "mask = np.zeros_like(corr,dtype=bool)\n",
    "mask[np.triu_indices_from(mask)]=True\n",
    "corr[mask]=np.nan\n",
    "(corr.style.background_gradient(cmap='coolwarm',axis=None,vmin=-1,vmax=1)\n",
    " .highlight_null(null_color='#f1f1f1') \n",
    " .set_precision(1))\n",
    "\n",
    "#display corelation heatmap\n",
    "sn.heatmap(corr,cmap=\"coolwarm\",annot=True,linewidths=0.5,linecolor='#f1f1f1')\n",
    "#print(plt.style.available)"
   ]
  },
  {
   "cell_type": "code",
   "execution_count": 160,
   "id": "90373439",
   "metadata": {},
   "outputs": [
    {
     "data": {
      "text/plain": [
       "(array([-6., -4., -2.,  0.,  2.,  4.,  6.]),\n",
       " [Text(0, 0, ''),\n",
       "  Text(0, 0, ''),\n",
       "  Text(0, 0, ''),\n",
       "  Text(0, 0, ''),\n",
       "  Text(0, 0, ''),\n",
       "  Text(0, 0, ''),\n",
       "  Text(0, 0, '')])"
      ]
     },
     "execution_count": 160,
     "metadata": {},
     "output_type": "execute_result"
    },
    {
     "data": {
      "image/png": "[encoded data removed]",
      "text/plain": [
       "<Figure size 504x504 with 1 Axes>"
      ]
     },
     "metadata": {},
     "output_type": "display_data"
    }
   ],
   "source": [
    "plt.style.use('ggplot')\n",
    "attributeNames=cor.columns.tolist()\n",
    "M=len(attributeNames)\n",
    "red_box = dict(markerfacecolor='r', marker='s',markersize=3)\n",
    "plt.figure(figsize=(7,7))\n",
    "plt.title('IMDB:   Standarized Boxplot',fontsize=10)\n",
    "plt.boxplot(zscore(cor), attributeNames,flierprops=red_box,patch_artist=True)\n",
    "plt.xticks(range(1,M+1), attributeNames,fontsize=10, rotation=90) \n",
    "plt.yticks(fontsize=8)"
   ]
  },
  {
   "cell_type": "markdown",
   "id": "80f80946",
   "metadata": {},
   "source": [
    "extream value are comparitively much better, they are much packed then before and in order to maintain the data as orognla as possible, we should keep it relaxed when cleaning extream values. above box plot shows that its much better thn before. "
   ]
  },
  {
   "cell_type": "markdown",
   "id": "2a73e2e7",
   "metadata": {},
   "source": [
    "<code style=\"background:yellow;color:black\"><b><font size=\"4\">Now Our Data is cleaner thn before and its ready to select different attributes for modeling </font></b></code>"
   ]
  },
  {
   "cell_type": "code",
   "execution_count": null,
   "id": "78c10661",
   "metadata": {},
   "outputs": [],
   "source": []
  },
  {
   "cell_type": "markdown",
   "id": "297e9360",
   "metadata": {},
   "source": [
    "<code style=\"background:yellow;color:black\"><b><u><font size=\"6\">** Prediction Challenge:</font></u></b></code>"
   ]
  },
  {
   "cell_type": "code",
   "execution_count": 161,
   "id": "6d415a07",
   "metadata": {},
   "outputs": [],
   "source": [
    "df3.to_csv('NB_3_result_IMDB_cleaned_data_11Nov.csv',index=False)"
   ]
  },
  {
   "cell_type": "code",
   "execution_count": 162,
   "id": "ee1a8d1c",
   "metadata": {},
   "outputs": [],
   "source": [
    "df= pd.read_csv('./NB_3_result_IMDB_cleaned_data_11Nov.csv')"
   ]
  },
  {
   "cell_type": "markdown",
   "id": "8e24ae14",
   "metadata": {},
   "source": [
    "<code style=\"background:yellow;color:black\"><b><u><font size=\"6\"> 1. Gross</font></u></b></code>"
   ]
  },
  {
   "cell_type": "code",
   "execution_count": 163,
   "id": "1b32f4dc",
   "metadata": {},
   "outputs": [],
   "source": [
    "feature_variables_gross = ['title','year_group','continent', 'budget','runtime','numVotes', \"Total_director\"]\n",
    "target_variable_gross = ['gross']"
   ]
  },
  {
   "cell_type": "code",
   "execution_count": 164,
   "id": "0fabd01f",
   "metadata": {},
   "outputs": [],
   "source": [
    "df_gross = df[feature_variables_gross].join(df[target_variable_gross])\n",
    "df_gross.set_index('title', inplace=True)"
   ]
  },
  {
   "cell_type": "code",
   "execution_count": 165,
   "id": "00831146",
   "metadata": {},
   "outputs": [],
   "source": [
    "df_gross_new = pd.get_dummies(df_gross, columns =[\"continent\",'year_group'])"
   ]
  },
  {
   "cell_type": "code",
   "execution_count": 166,
   "id": "c570bfb0",
   "metadata": {},
   "outputs": [],
   "source": [
    "from sklearn.model_selection import train_test_split\n",
    "y_gross=df_gross_new['gross']\n",
    "x_gross=df_gross_new[:]\n",
    "del x_gross['gross']"
   ]
  },
  {
   "cell_type": "code",
   "execution_count": 171,
   "id": "e4b103ef",
   "metadata": {},
   "outputs": [],
   "source": [
    "x_gross_train,x_gross_test, y_gross_train, y_gross_test=train_test_split(x_gross, y_gross, train_size=0.75,random_state=7)"
   ]
  },
  {
   "cell_type": "code",
   "execution_count": 172,
   "id": "3a2f22bf",
   "metadata": {},
   "outputs": [
    {
     "data": {
      "text/plain": [
       "LinearRegression()"
      ]
     },
     "execution_count": 172,
     "metadata": {},
     "output_type": "execute_result"
    }
   ],
   "source": [
    "# follow the usual sklearn pattern: import, instantiate, fit\n",
    "from sklearn.linear_model import LinearRegression\n",
    "lm_gross = LinearRegression()\n",
    "lm_gross.fit(x_gross_train, y_gross_train)"
   ]
  },
  {
   "cell_type": "code",
   "execution_count": 173,
   "id": "e8574848",
   "metadata": {},
   "outputs": [
    {
     "name": "stdout",
     "output_type": "stream",
     "text": [
      "R^2 for Linear Regression: 0.726096\n"
     ]
    }
   ],
   "source": [
    "print(\"R^2 for Linear Regression: %f\" % lm_gross.score(x_gross_test, y_gross_test))\n",
    "lm_gross_pred = lm_gross.predict(x_gross_test)"
   ]
  },
  {
   "cell_type": "markdown",
   "id": "8ded646b",
   "metadata": {},
   "source": [
    "<code style=\"background:yellow;color:black\"><b><u><font size=\"5\">### K fold cross validation for LinearRegression model to predict Gross</font></u></b></code>"
   ]
  },
  {
   "cell_type": "code",
   "execution_count": 174,
   "id": "d8438352",
   "metadata": {},
   "outputs": [
    {
     "data": {
      "text/plain": [
       "array([0.38644338, 0.53183911, 0.61076683, 0.67766742, 0.5949799 ,\n",
       "       0.63419818, 0.71669629, 0.71266069, 0.75729069, 0.67433469])"
      ]
     },
     "execution_count": 174,
     "metadata": {},
     "output_type": "execute_result"
    }
   ],
   "source": [
    "from sklearn.model_selection import cross_val_score\n",
    "cross_val_score(LinearRegression(), x_gross, y_gross,cv=10)"
   ]
  },
  {
   "cell_type": "code",
   "execution_count": 175,
   "id": "cd0d5f3f",
   "metadata": {},
   "outputs": [
    {
     "data": {
      "text/plain": [
       "0.6296877194731847"
      ]
     },
     "execution_count": 175,
     "metadata": {},
     "output_type": "execute_result"
    }
   ],
   "source": [
    "# menan value\n",
    "sum(cross_val_score(LinearRegression(), x_gross, y_gross,cv=10))/10"
   ]
  },
  {
   "cell_type": "markdown",
   "id": "0ec024df",
   "metadata": {},
   "source": [
    "<code style=\"background:yellow;color:black\"><b><u><font size=\"6\"> 2. Score</font></u></b></code>"
   ]
  },
  {
   "cell_type": "markdown",
   "id": "ed15c562",
   "metadata": {},
   "source": [
    "<code style=\"background:yellow;color:black\"><b><u><font size=\"6\">Score as Regression problem</font></u></b></code>"
   ]
  },
  {
   "cell_type": "code",
   "execution_count": 176,
   "id": "4e73ae14",
   "metadata": {},
   "outputs": [],
   "source": [
    "variables2=['titleId','budget','runtime','year_group','3_genres','numVotes','gross','score']\n",
    "df2=df[variables2]\n",
    "df2.set_index('titleId', inplace=True)"
   ]
  },
  {
   "cell_type": "code",
   "execution_count": 177,
   "id": "eef53392",
   "metadata": {},
   "outputs": [],
   "source": [
    "IMDB2=pd.get_dummies(df2, columns =['year_group','3_genres'])"
   ]
  },
  {
   "cell_type": "code",
   "execution_count": 178,
   "id": "1fe14869",
   "metadata": {},
   "outputs": [
    {
     "data": {
      "text/html": [
       "<div>\n",
       "<style scoped>\n",
       "    .dataframe tbody tr th:only-of-type {\n",
       "        vertical-align: middle;\n",
       "    }\n",
       "\n",
       "    .dataframe tbody tr th {\n",
       "        vertical-align: top;\n",
       "    }\n",
       "\n",
       "    .dataframe thead th {\n",
       "        text-align: right;\n",
       "    }\n",
       "</style>\n",
       "<table border=\"1\" class=\"dataframe\">\n",
       "  <thead>\n",
       "    <tr style=\"text-align: right;\">\n",
       "      <th></th>\n",
       "      <th>budget</th>\n",
       "      <th>runtime</th>\n",
       "      <th>numVotes</th>\n",
       "      <th>gross</th>\n",
       "      <th>score</th>\n",
       "      <th>year_group_1980-1985</th>\n",
       "      <th>year_group_1986-1990</th>\n",
       "      <th>year_group_1991-1995</th>\n",
       "      <th>year_group_1996-2020</th>\n",
       "      <th>year_group_2001-2005</th>\n",
       "      <th>...</th>\n",
       "      <th>3_genres_Horror,Sci-Fi,Thriller</th>\n",
       "      <th>3_genres_Horror,Thriller</th>\n",
       "      <th>3_genres_Mystery,Romance,Thriller</th>\n",
       "      <th>3_genres_Mystery,Sci-Fi,Thriller</th>\n",
       "      <th>3_genres_Mystery,Thriller</th>\n",
       "      <th>3_genres_Romance,Sci-Fi</th>\n",
       "      <th>3_genres_Romance,Sci-Fi,Thriller</th>\n",
       "      <th>3_genres_Sci-Fi,Thriller</th>\n",
       "      <th>3_genres_Thriller</th>\n",
       "      <th>3_genres_Western</th>\n",
       "    </tr>\n",
       "    <tr>\n",
       "      <th>titleId</th>\n",
       "      <th></th>\n",
       "      <th></th>\n",
       "      <th></th>\n",
       "      <th></th>\n",
       "      <th></th>\n",
       "      <th></th>\n",
       "      <th></th>\n",
       "      <th></th>\n",
       "      <th></th>\n",
       "      <th></th>\n",
       "      <th></th>\n",
       "      <th></th>\n",
       "      <th></th>\n",
       "      <th></th>\n",
       "      <th></th>\n",
       "      <th></th>\n",
       "      <th></th>\n",
       "      <th></th>\n",
       "      <th></th>\n",
       "      <th></th>\n",
       "      <th></th>\n",
       "    </tr>\n",
       "  </thead>\n",
       "  <tbody>\n",
       "    <tr>\n",
       "      <th>81505</th>\n",
       "      <td>19000000.0</td>\n",
       "      <td>146.0</td>\n",
       "      <td>948829.08</td>\n",
       "      <td>46998772.0</td>\n",
       "      <td>8.4</td>\n",
       "      <td>1</td>\n",
       "      <td>0</td>\n",
       "      <td>0</td>\n",
       "      <td>0</td>\n",
       "      <td>0</td>\n",
       "      <td>...</td>\n",
       "      <td>0</td>\n",
       "      <td>0</td>\n",
       "      <td>0</td>\n",
       "      <td>0</td>\n",
       "      <td>0</td>\n",
       "      <td>0</td>\n",
       "      <td>0</td>\n",
       "      <td>0</td>\n",
       "      <td>0</td>\n",
       "      <td>0</td>\n",
       "    </tr>\n",
       "    <tr>\n",
       "      <th>80453</th>\n",
       "      <td>4500000.0</td>\n",
       "      <td>104.0</td>\n",
       "      <td>66580.00</td>\n",
       "      <td>58853106.0</td>\n",
       "      <td>5.8</td>\n",
       "      <td>1</td>\n",
       "      <td>0</td>\n",
       "      <td>0</td>\n",
       "      <td>0</td>\n",
       "      <td>0</td>\n",
       "      <td>...</td>\n",
       "      <td>0</td>\n",
       "      <td>0</td>\n",
       "      <td>0</td>\n",
       "      <td>0</td>\n",
       "      <td>0</td>\n",
       "      <td>0</td>\n",
       "      <td>0</td>\n",
       "      <td>0</td>\n",
       "      <td>0</td>\n",
       "      <td>0</td>\n",
       "    </tr>\n",
       "    <tr>\n",
       "      <th>80684</th>\n",
       "      <td>18000000.0</td>\n",
       "      <td>124.0</td>\n",
       "      <td>948829.08</td>\n",
       "      <td>538375067.0</td>\n",
       "      <td>8.7</td>\n",
       "      <td>1</td>\n",
       "      <td>0</td>\n",
       "      <td>0</td>\n",
       "      <td>0</td>\n",
       "      <td>0</td>\n",
       "      <td>...</td>\n",
       "      <td>0</td>\n",
       "      <td>0</td>\n",
       "      <td>0</td>\n",
       "      <td>0</td>\n",
       "      <td>0</td>\n",
       "      <td>0</td>\n",
       "      <td>0</td>\n",
       "      <td>0</td>\n",
       "      <td>0</td>\n",
       "      <td>0</td>\n",
       "    </tr>\n",
       "    <tr>\n",
       "      <th>80339</th>\n",
       "      <td>3500000.0</td>\n",
       "      <td>88.0</td>\n",
       "      <td>225610.00</td>\n",
       "      <td>83453539.0</td>\n",
       "      <td>7.7</td>\n",
       "      <td>1</td>\n",
       "      <td>0</td>\n",
       "      <td>0</td>\n",
       "      <td>0</td>\n",
       "      <td>0</td>\n",
       "      <td>...</td>\n",
       "      <td>0</td>\n",
       "      <td>0</td>\n",
       "      <td>0</td>\n",
       "      <td>0</td>\n",
       "      <td>0</td>\n",
       "      <td>0</td>\n",
       "      <td>0</td>\n",
       "      <td>0</td>\n",
       "      <td>0</td>\n",
       "      <td>0</td>\n",
       "    </tr>\n",
       "    <tr>\n",
       "      <th>80487</th>\n",
       "      <td>6000000.0</td>\n",
       "      <td>98.0</td>\n",
       "      <td>111580.00</td>\n",
       "      <td>39846344.0</td>\n",
       "      <td>7.3</td>\n",
       "      <td>1</td>\n",
       "      <td>0</td>\n",
       "      <td>0</td>\n",
       "      <td>0</td>\n",
       "      <td>0</td>\n",
       "      <td>...</td>\n",
       "      <td>0</td>\n",
       "      <td>0</td>\n",
       "      <td>0</td>\n",
       "      <td>0</td>\n",
       "      <td>0</td>\n",
       "      <td>0</td>\n",
       "      <td>0</td>\n",
       "      <td>0</td>\n",
       "      <td>0</td>\n",
       "      <td>0</td>\n",
       "    </tr>\n",
       "  </tbody>\n",
       "</table>\n",
       "<p>5 rows × 331 columns</p>\n",
       "</div>"
      ],
      "text/plain": [
       "             budget  runtime   numVotes        gross  score  \\\n",
       "titleId                                                       \n",
       "81505    19000000.0    146.0  948829.08   46998772.0    8.4   \n",
       "80453     4500000.0    104.0   66580.00   58853106.0    5.8   \n",
       "80684    18000000.0    124.0  948829.08  538375067.0    8.7   \n",
       "80339     3500000.0     88.0  225610.00   83453539.0    7.7   \n",
       "80487     6000000.0     98.0  111580.00   39846344.0    7.3   \n",
       "\n",
       "         year_group_1980-1985  year_group_1986-1990  year_group_1991-1995  \\\n",
       "titleId                                                                     \n",
       "81505                       1                     0                     0   \n",
       "80453                       1                     0                     0   \n",
       "80684                       1                     0                     0   \n",
       "80339                       1                     0                     0   \n",
       "80487                       1                     0                     0   \n",
       "\n",
       "         year_group_1996-2020  year_group_2001-2005  ...  \\\n",
       "titleId                                              ...   \n",
       "81505                       0                     0  ...   \n",
       "80453                       0                     0  ...   \n",
       "80684                       0                     0  ...   \n",
       "80339                       0                     0  ...   \n",
       "80487                       0                     0  ...   \n",
       "\n",
       "         3_genres_Horror,Sci-Fi,Thriller  3_genres_Horror,Thriller  \\\n",
       "titleId                                                              \n",
       "81505                                  0                         0   \n",
       "80453                                  0                         0   \n",
       "80684                                  0                         0   \n",
       "80339                                  0                         0   \n",
       "80487                                  0                         0   \n",
       "\n",
       "         3_genres_Mystery,Romance,Thriller  3_genres_Mystery,Sci-Fi,Thriller  \\\n",
       "titleId                                                                        \n",
       "81505                                    0                                 0   \n",
       "80453                                    0                                 0   \n",
       "80684                                    0                                 0   \n",
       "80339                                    0                                 0   \n",
       "80487                                    0                                 0   \n",
       "\n",
       "         3_genres_Mystery,Thriller  3_genres_Romance,Sci-Fi  \\\n",
       "titleId                                                       \n",
       "81505                            0                        0   \n",
       "80453                            0                        0   \n",
       "80684                            0                        0   \n",
       "80339                            0                        0   \n",
       "80487                            0                        0   \n",
       "\n",
       "         3_genres_Romance,Sci-Fi,Thriller  3_genres_Sci-Fi,Thriller  \\\n",
       "titleId                                                               \n",
       "81505                                   0                         0   \n",
       "80453                                   0                         0   \n",
       "80684                                   0                         0   \n",
       "80339                                   0                         0   \n",
       "80487                                   0                         0   \n",
       "\n",
       "         3_genres_Thriller  3_genres_Western  \n",
       "titleId                                       \n",
       "81505                    0                 0  \n",
       "80453                    0                 0  \n",
       "80684                    0                 0  \n",
       "80339                    0                 0  \n",
       "80487                    0                 0  \n",
       "\n",
       "[5 rows x 331 columns]"
      ]
     },
     "execution_count": 178,
     "metadata": {},
     "output_type": "execute_result"
    }
   ],
   "source": [
    "IMDB2.head()"
   ]
  },
  {
   "cell_type": "code",
   "execution_count": 179,
   "id": "525d1ae2",
   "metadata": {},
   "outputs": [],
   "source": [
    "y_score=IMDB2['score']\n",
    "x_score=IMDB2.copy()\n",
    "del x_score['score']"
   ]
  },
  {
   "cell_type": "code",
   "execution_count": 180,
   "id": "038aec3c",
   "metadata": {},
   "outputs": [],
   "source": [
    "from sklearn.model_selection import train_test_split\n",
    "x_score_train,x_score_test, y_score_train, y_score_test=train_test_split(x_score, y_score, train_size=0.75,random_state=3)"
   ]
  },
  {
   "cell_type": "code",
   "execution_count": 181,
   "id": "93f89711",
   "metadata": {},
   "outputs": [
    {
     "data": {
      "text/plain": [
       "LinearRegression()"
      ]
     },
     "execution_count": 181,
     "metadata": {},
     "output_type": "execute_result"
    }
   ],
   "source": [
    "from sklearn.linear_model import LinearRegression\n",
    "lr_score = LinearRegression()\n",
    "lr_score.fit(x_score_train, y_score_train)\n",
    "\n",
    "# print intercept and coefficients\n",
    "#print(lr_score.intercept_)\n",
    "#print(lr_score.coef_)"
   ]
  },
  {
   "cell_type": "code",
   "execution_count": 182,
   "id": "a9a08c17",
   "metadata": {},
   "outputs": [
    {
     "name": "stdout",
     "output_type": "stream",
     "text": [
      "R^2 for Linear Regression: 0.453102\n"
     ]
    }
   ],
   "source": [
    "print(\"R^2 for Linear Regression: %f\" % lr_score.score(x_score_test, y_score_test))\n",
    "lr_score_pred = lr_score.predict(x_score_test)"
   ]
  },
  {
   "cell_type": "markdown",
   "id": "a03df043",
   "metadata": {},
   "source": [
    "<code style=\"background:yellow;color:black\"><b><u><font size=\"6\">Score as Classification problem</font></u></b></code>"
   ]
  },
  {
   "cell_type": "code",
   "execution_count": 183,
   "id": "ea3c0308",
   "metadata": {},
   "outputs": [],
   "source": [
    "year=df2['score']\n",
    "condition = [year<= 1, year<=2, year<=3, year<=4, year<=5, year<=6, year<=7, year <=8, year <=9, year <=10 ]\n",
    "choice = [\"0-1\", \"1-2\", \"2-3\", \"3-4\", \"4-5\", \"5-6\", \"6-7\", \"7-8\",\"8-9\",\"9-10\"]\n",
    "df2['score_label']=np.select(condition, choice)"
   ]
  },
  {
   "cell_type": "code",
   "execution_count": 184,
   "id": "92a6e207",
   "metadata": {},
   "outputs": [
    {
     "data": {
      "text/html": [
       "<div>\n",
       "<style scoped>\n",
       "    .dataframe tbody tr th:only-of-type {\n",
       "        vertical-align: middle;\n",
       "    }\n",
       "\n",
       "    .dataframe tbody tr th {\n",
       "        vertical-align: top;\n",
       "    }\n",
       "\n",
       "    .dataframe thead th {\n",
       "        text-align: right;\n",
       "    }\n",
       "</style>\n",
       "<table border=\"1\" class=\"dataframe\">\n",
       "  <thead>\n",
       "    <tr style=\"text-align: right;\">\n",
       "      <th></th>\n",
       "      <th>budget</th>\n",
       "      <th>runtime</th>\n",
       "      <th>year_group</th>\n",
       "      <th>3_genres</th>\n",
       "      <th>numVotes</th>\n",
       "      <th>gross</th>\n",
       "      <th>score</th>\n",
       "      <th>score_label</th>\n",
       "    </tr>\n",
       "    <tr>\n",
       "      <th>titleId</th>\n",
       "      <th></th>\n",
       "      <th></th>\n",
       "      <th></th>\n",
       "      <th></th>\n",
       "      <th></th>\n",
       "      <th></th>\n",
       "      <th></th>\n",
       "      <th></th>\n",
       "    </tr>\n",
       "  </thead>\n",
       "  <tbody>\n",
       "    <tr>\n",
       "      <th>81505</th>\n",
       "      <td>19000000.0</td>\n",
       "      <td>146.0</td>\n",
       "      <td>1980-1985</td>\n",
       "      <td>Drama,Horror</td>\n",
       "      <td>948829.08</td>\n",
       "      <td>46998772.0</td>\n",
       "      <td>8.4</td>\n",
       "      <td>8-9</td>\n",
       "    </tr>\n",
       "    <tr>\n",
       "      <th>80453</th>\n",
       "      <td>4500000.0</td>\n",
       "      <td>104.0</td>\n",
       "      <td>1980-1985</td>\n",
       "      <td>Adventure,Drama,Romance</td>\n",
       "      <td>66580.00</td>\n",
       "      <td>58853106.0</td>\n",
       "      <td>5.8</td>\n",
       "      <td>5-6</td>\n",
       "    </tr>\n",
       "    <tr>\n",
       "      <th>80684</th>\n",
       "      <td>18000000.0</td>\n",
       "      <td>124.0</td>\n",
       "      <td>1980-1985</td>\n",
       "      <td>Action,Adventure,Fantasy</td>\n",
       "      <td>948829.08</td>\n",
       "      <td>538375067.0</td>\n",
       "      <td>8.7</td>\n",
       "      <td>8-9</td>\n",
       "    </tr>\n",
       "    <tr>\n",
       "      <th>80339</th>\n",
       "      <td>3500000.0</td>\n",
       "      <td>88.0</td>\n",
       "      <td>1980-1985</td>\n",
       "      <td>Comedy</td>\n",
       "      <td>225610.00</td>\n",
       "      <td>83453539.0</td>\n",
       "      <td>7.7</td>\n",
       "      <td>7-8</td>\n",
       "    </tr>\n",
       "    <tr>\n",
       "      <th>80487</th>\n",
       "      <td>6000000.0</td>\n",
       "      <td>98.0</td>\n",
       "      <td>1980-1985</td>\n",
       "      <td>Comedy,Sport</td>\n",
       "      <td>111580.00</td>\n",
       "      <td>39846344.0</td>\n",
       "      <td>7.3</td>\n",
       "      <td>7-8</td>\n",
       "    </tr>\n",
       "  </tbody>\n",
       "</table>\n",
       "</div>"
      ],
      "text/plain": [
       "             budget  runtime year_group                  3_genres   numVotes  \\\n",
       "titleId                                                                        \n",
       "81505    19000000.0    146.0  1980-1985              Drama,Horror  948829.08   \n",
       "80453     4500000.0    104.0  1980-1985   Adventure,Drama,Romance   66580.00   \n",
       "80684    18000000.0    124.0  1980-1985  Action,Adventure,Fantasy  948829.08   \n",
       "80339     3500000.0     88.0  1980-1985                    Comedy  225610.00   \n",
       "80487     6000000.0     98.0  1980-1985              Comedy,Sport  111580.00   \n",
       "\n",
       "               gross  score score_label  \n",
       "titleId                                  \n",
       "81505     46998772.0    8.4         8-9  \n",
       "80453     58853106.0    5.8         5-6  \n",
       "80684    538375067.0    8.7         8-9  \n",
       "80339     83453539.0    7.7         7-8  \n",
       "80487     39846344.0    7.3         7-8  "
      ]
     },
     "execution_count": 184,
     "metadata": {},
     "output_type": "execute_result"
    }
   ],
   "source": [
    "df2.head()"
   ]
  },
  {
   "cell_type": "code",
   "execution_count": 185,
   "id": "e6315758",
   "metadata": {},
   "outputs": [],
   "source": [
    "IMDB3=pd.get_dummies(df2, columns =['year_group','3_genres'])"
   ]
  },
  {
   "cell_type": "code",
   "execution_count": 186,
   "id": "e7b6288a",
   "metadata": {},
   "outputs": [],
   "source": [
    "y_score=IMDB3['score_label']\n",
    "\n",
    "x_score=IMDB3.copy()\n",
    "del x_score['score']\n",
    "del x_score['score_label']"
   ]
  },
  {
   "cell_type": "code",
   "execution_count": 187,
   "id": "04908df7",
   "metadata": {},
   "outputs": [],
   "source": [
    "from sklearn.model_selection import train_test_split\n",
    "x_score_train,x_score_test, y_score_train, y_score_test=train_test_split(x_score, y_score, train_size=0.75,random_state=6)"
   ]
  },
  {
   "cell_type": "markdown",
   "id": "a702fd53",
   "metadata": {},
   "source": [
    "## Apply differnt Classifier and validate using 10 Folds cross validation"
   ]
  },
  {
   "cell_type": "code",
   "execution_count": 188,
   "id": "cb059698",
   "metadata": {},
   "outputs": [],
   "source": [
    "# fit train function .... (to be used in final cleaned version of code)\n",
    "\n",
    "def get_score(model, X_train, X_test, y_train, y_test):\n",
    "    model.fit(X_train, y_train)\n",
    "    return model.score(X_test, y_test)"
   ]
  },
  {
   "cell_type": "code",
   "execution_count": 189,
   "id": "a804c2d1",
   "metadata": {},
   "outputs": [],
   "source": [
    "from sklearn.linear_model import LogisticRegression\n",
    "from sklearn.svm import SVC\n",
    "from sklearn.ensemble import RandomForestClassifier\n",
    "from sklearn import tree"
   ]
  },
  {
   "cell_type": "markdown",
   "id": "e810b46c",
   "metadata": {},
   "source": [
    "#####  1.LogisticRegression"
   ]
  },
  {
   "cell_type": "code",
   "execution_count": 190,
   "id": "44fa60b9",
   "metadata": {},
   "outputs": [
    {
     "name": "stdout",
     "output_type": "stream",
     "text": [
      "/n/nMean Value :  0.46950334821428574\n"
     ]
    }
   ],
   "source": [
    "print('/n/nMean Value : ',sum(cross_val_score(LogisticRegression(solver='liblinear',multi_class='ovr'), x_score, y_score,cv=10))/10)"
   ]
  },
  {
   "cell_type": "markdown",
   "id": "77af374c",
   "metadata": {},
   "source": [
    "##### 2. SVM"
   ]
  },
  {
   "cell_type": "code",
   "execution_count": 191,
   "id": "b34586e5",
   "metadata": {},
   "outputs": [
    {
     "name": "stdout",
     "output_type": "stream",
     "text": [
      "/n/nMean Value :  0.43200525929549904\n"
     ]
    }
   ],
   "source": [
    "print('/n/nMean Value : ',sum(cross_val_score(SVC(gamma='auto'), x_score, y_score,cv=10))/10)"
   ]
  },
  {
   "cell_type": "markdown",
   "id": "9a210233",
   "metadata": {},
   "source": [
    "##### 4. Random Forest"
   ]
  },
  {
   "cell_type": "code",
   "execution_count": 192,
   "id": "cdc4e98d",
   "metadata": {},
   "outputs": [
    {
     "name": "stdout",
     "output_type": "stream",
     "text": [
      "/n/nMean Value :  0.5273582742172211\n"
     ]
    }
   ],
   "source": [
    "print('/n/nMean Value : ',sum(cross_val_score(RandomForestClassifier(n_estimators=40),x_score, y_score,cv=10))/10)"
   ]
  },
  {
   "cell_type": "markdown",
   "id": "16440d74",
   "metadata": {},
   "source": [
    "##### 5. Decision Tree "
   ]
  },
  {
   "cell_type": "code",
   "execution_count": 193,
   "id": "58b8cf9f",
   "metadata": {},
   "outputs": [
    {
     "name": "stdout",
     "output_type": "stream",
     "text": [
      "/n/nMean Value :  0.47498929794520545\n"
     ]
    }
   ],
   "source": [
    "print('/n/nMean Value : ',sum(cross_val_score(tree.DecisionTreeClassifier(),x_score, y_score,cv=10))/10)"
   ]
  },
  {
   "cell_type": "markdown",
   "id": "68b48195",
   "metadata": {},
   "source": [
    "From above we now know that Random Forest is the best model for our dataset to predict score as calssification."
   ]
  },
  {
   "cell_type": "markdown",
   "id": "27a86e87",
   "metadata": {},
   "source": [
    "# Chosen Classification problem"
   ]
  },
  {
   "cell_type": "code",
   "execution_count": 194,
   "id": "e0f64d82",
   "metadata": {},
   "outputs": [
    {
     "data": {
      "text/plain": [
       "0.58515625"
      ]
     },
     "execution_count": 194,
     "metadata": {},
     "output_type": "execute_result"
    }
   ],
   "source": [
    "# Random Forest\n",
    "get_score(RandomForestClassifier(n_estimators=50), x_score_train,x_score_test, y_score_train, y_score_test)"
   ]
  },
  {
   "cell_type": "code",
   "execution_count": null,
   "id": "98d46417",
   "metadata": {},
   "outputs": [],
   "source": []
  }
 ],
 "metadata": {
  "kernelspec": {
   "display_name": "Python 3 (ipykernel)",
   "language": "python",
   "name": "python3"
  },
  "language_info": {
   "codemirror_mode": {
    "name": "ipython",
    "version": 3
   },
   "file_extension": ".py",
   "mimetype": "text/x-python",
   "name": "python",
   "nbconvert_exporter": "python",
   "pygments_lexer": "ipython3",
   "version": "3.8.8"
  }
 },
 "nbformat": 4,
 "nbformat_minor": 5
}
